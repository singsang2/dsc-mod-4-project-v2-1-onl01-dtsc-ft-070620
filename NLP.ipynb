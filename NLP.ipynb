{
 "cells": [
  {
   "cell_type": "markdown",
   "metadata": {
    "id": "Mlz-F_Ze8c-f"
   },
   "source": [
    "# Introduction\n"
   ]
  },
  {
   "cell_type": "markdown",
   "metadata": {
    "id": "ZcO9UUUn-CRS"
   },
   "source": []
  },
  {
   "cell_type": "markdown",
   "metadata": {
    "id": "LQs-FOuX9c5I"
   },
   "source": [
    "# Data"
   ]
  },
  {
   "cell_type": "markdown",
   "metadata": {
    "ExecuteTime": {
     "end_time": "2020-11-02T14:54:05.224323Z",
     "start_time": "2020-11-02T14:54:05.220026Z"
    }
   },
   "source": [
    "Datasets used:\n",
    "    [1]. given dataset\n",
    "    [2]. Amazon and Best Buy electronics review dataset: https://www.kaggle.com/datafiniti/amazon-and-best-buy-electronics\n",
    "            "
   ]
  },
  {
   "cell_type": "code",
   "execution_count": 3,
   "metadata": {
    "ExecuteTime": {
     "end_time": "2020-11-02T14:54:13.987948Z",
     "start_time": "2020-11-02T14:54:13.985275Z"
    }
   },
   "outputs": [],
   "source": [
    "GOOGLE_DRIVE = False"
   ]
  },
  {
   "cell_type": "code",
   "execution_count": 6,
   "metadata": {
    "ExecuteTime": {
     "end_time": "2020-11-02T14:55:02.818948Z",
     "start_time": "2020-11-02T14:55:02.809055Z"
    },
    "id": "tq_4JrCi-Gag"
   },
   "outputs": [],
   "source": [
    "# Importing different libraries\n",
    "import warnings\n",
    "warnings.filterwarnings('ignore') \n",
    "import pandas as pd\n",
    "import numpy as np\n",
    "import matplotlib.pyplot as plt\n",
    "%matplotlib inline"
   ]
  },
  {
   "cell_type": "code",
   "execution_count": 9,
   "metadata": {
    "ExecuteTime": {
     "end_time": "2020-11-02T14:56:31.022234Z",
     "start_time": "2020-11-02T14:56:30.980186Z"
    },
    "colab": {
     "base_uri": "https://localhost:8080/"
    },
    "id": "dzG8fSP8AX5p",
    "outputId": "2c4c9b3f-8e85-4bde-bae4-6c390b0d1fa8"
   },
   "outputs": [],
   "source": [
    "if GOOGLE_DRIVE:\n",
    "    # Importing data from google drive\n",
    "    from google.colab import drive\n",
    "    drive.mount('/content/drive')\n",
    "    # Importing data from google drive\n",
    "    df = pd.read_csv(\"drive/My Drive/dataset/twitter_sentiment/tweet_product_company.csv\", \n",
    "                     encoding='unicode_escape')\n",
    "else:\n",
    "    df = pd.read_csv('data/tweet.csv', encoding='unicode_escape')"
   ]
  },
  {
   "cell_type": "code",
   "execution_count": 10,
   "metadata": {
    "ExecuteTime": {
     "end_time": "2020-11-02T14:56:32.975792Z",
     "start_time": "2020-11-02T14:56:32.953671Z"
    },
    "colab": {
     "base_uri": "https://localhost:8080/",
     "height": 204
    },
    "id": "MesJedcaCeOj",
    "outputId": "cf93285f-0aa9-4b10-ade1-55ee7d514ab8"
   },
   "outputs": [
    {
     "data": {
      "text/html": [
       "<div>\n",
       "<style scoped>\n",
       "    .dataframe tbody tr th:only-of-type {\n",
       "        vertical-align: middle;\n",
       "    }\n",
       "\n",
       "    .dataframe tbody tr th {\n",
       "        vertical-align: top;\n",
       "    }\n",
       "\n",
       "    .dataframe thead th {\n",
       "        text-align: right;\n",
       "    }\n",
       "</style>\n",
       "<table border=\"1\" class=\"dataframe\">\n",
       "  <thead>\n",
       "    <tr style=\"text-align: right;\">\n",
       "      <th></th>\n",
       "      <th>text</th>\n",
       "      <th>product</th>\n",
       "      <th>target</th>\n",
       "    </tr>\n",
       "  </thead>\n",
       "  <tbody>\n",
       "    <tr>\n",
       "      <td>0</td>\n",
       "      <td>.@wesley83 I have a 3G iPhone. After 3 hrs twe...</td>\n",
       "      <td>iPhone</td>\n",
       "      <td>Negative emotion</td>\n",
       "    </tr>\n",
       "    <tr>\n",
       "      <td>1</td>\n",
       "      <td>@jessedee Know about @fludapp ? Awesome iPad/i...</td>\n",
       "      <td>iPad or iPhone App</td>\n",
       "      <td>Positive emotion</td>\n",
       "    </tr>\n",
       "    <tr>\n",
       "      <td>2</td>\n",
       "      <td>@swonderlin Can not wait for #iPad 2 also. The...</td>\n",
       "      <td>iPad</td>\n",
       "      <td>Positive emotion</td>\n",
       "    </tr>\n",
       "    <tr>\n",
       "      <td>3</td>\n",
       "      <td>@sxsw I hope this year's festival isn't as cra...</td>\n",
       "      <td>iPad or iPhone App</td>\n",
       "      <td>Negative emotion</td>\n",
       "    </tr>\n",
       "    <tr>\n",
       "      <td>4</td>\n",
       "      <td>@sxtxstate great stuff on Fri #SXSW: Marissa M...</td>\n",
       "      <td>Google</td>\n",
       "      <td>Positive emotion</td>\n",
       "    </tr>\n",
       "  </tbody>\n",
       "</table>\n",
       "</div>"
      ],
      "text/plain": [
       "                                                text             product  \\\n",
       "0  .@wesley83 I have a 3G iPhone. After 3 hrs twe...              iPhone   \n",
       "1  @jessedee Know about @fludapp ? Awesome iPad/i...  iPad or iPhone App   \n",
       "2  @swonderlin Can not wait for #iPad 2 also. The...                iPad   \n",
       "3  @sxsw I hope this year's festival isn't as cra...  iPad or iPhone App   \n",
       "4  @sxtxstate great stuff on Fri #SXSW: Marissa M...              Google   \n",
       "\n",
       "             target  \n",
       "0  Negative emotion  \n",
       "1  Positive emotion  \n",
       "2  Positive emotion  \n",
       "3  Negative emotion  \n",
       "4  Positive emotion  "
      ]
     },
     "execution_count": 10,
     "metadata": {},
     "output_type": "execute_result"
    }
   ],
   "source": [
    "df.columns=['text', 'product', 'target']\n",
    "df.head()"
   ]
  },
  {
   "cell_type": "code",
   "execution_count": 11,
   "metadata": {
    "ExecuteTime": {
     "end_time": "2020-11-02T14:56:34.469748Z",
     "start_time": "2020-11-02T14:56:34.465882Z"
    },
    "colab": {
     "base_uri": "https://localhost:8080/"
    },
    "id": "w4T17T2qDPKD",
    "outputId": "af480705-a91b-4c44-c6d2-982a105f3ae8"
   },
   "outputs": [
    {
     "data": {
      "text/plain": [
       "(9093, 3)"
      ]
     },
     "execution_count": 11,
     "metadata": {},
     "output_type": "execute_result"
    }
   ],
   "source": [
    "df.shape"
   ]
  },
  {
   "cell_type": "code",
   "execution_count": 12,
   "metadata": {
    "ExecuteTime": {
     "end_time": "2020-11-02T14:56:34.986086Z",
     "start_time": "2020-11-02T14:56:34.969440Z"
    },
    "colab": {
     "base_uri": "https://localhost:8080/"
    },
    "id": "iZH9TzOHDRPV",
    "outputId": "dec7fd85-6ae9-4f6d-a8db-9f8e01579201"
   },
   "outputs": [
    {
     "data": {
      "text/plain": [
       "No emotion toward brand or product    0.592654\n",
       "Positive emotion                      0.327505\n",
       "Negative emotion                      0.062686\n",
       "I can't tell                          0.017156\n",
       "Name: target, dtype: float64"
      ]
     },
     "execution_count": 12,
     "metadata": {},
     "output_type": "execute_result"
    }
   ],
   "source": [
    "df['target'].value_counts(1)"
   ]
  },
  {
   "cell_type": "markdown",
   "metadata": {
    "id": "CQeZW15eGGpj"
   },
   "source": [
    "# Round 1: Positive and Negative Emotions Only"
   ]
  },
  {
   "cell_type": "code",
   "execution_count": 35,
   "metadata": {
    "ExecuteTime": {
     "end_time": "2020-11-02T14:58:36.581461Z",
     "start_time": "2020-11-02T14:58:36.573810Z"
    },
    "id": "W469X0ZhGK7a"
   },
   "outputs": [],
   "source": [
    "# Copies only positive and negative emotions from the dataset\n",
    "df1 = df[(df['target']=='Positive emotion') | (df['target']=='Negative emotion')].copy()"
   ]
  },
  {
   "cell_type": "code",
   "execution_count": 14,
   "metadata": {
    "ExecuteTime": {
     "end_time": "2020-11-02T14:56:45.508369Z",
     "start_time": "2020-11-02T14:56:45.502352Z"
    },
    "colab": {
     "base_uri": "https://localhost:8080/"
    },
    "id": "wnlczA8VGXY2",
    "outputId": "74d718ef-fa18-485f-f512-86b155d7e3bb"
   },
   "outputs": [
    {
     "data": {
      "text/plain": [
       "Positive emotion    2978\n",
       "Negative emotion     570\n",
       "Name: target, dtype: int64"
      ]
     },
     "execution_count": 14,
     "metadata": {},
     "output_type": "execute_result"
    }
   ],
   "source": [
    "df1['target'].value_counts()"
   ]
  },
  {
   "cell_type": "markdown",
   "metadata": {},
   "source": [
    "> There is a great imbalance in class... Possible get around:\n",
    "\n",
    "    [1] SMOTE - oversampling\n",
    "    [2] Undersampling - since we do not have many data, we will not use undersampling technique\n",
    "    [3] class_weight"
   ]
  },
  {
   "cell_type": "markdown",
   "metadata": {},
   "source": [
    "## Tokenizing"
   ]
  },
  {
   "cell_type": "code",
   "execution_count": 332,
   "metadata": {
    "ExecuteTime": {
     "end_time": "2020-11-02T19:56:39.291642Z",
     "start_time": "2020-11-02T19:56:39.285944Z"
    }
   },
   "outputs": [],
   "source": [
    "def process_text(tweet,\n",
    "                 tokenizer='regex',\n",
    "                 pattern=\"([a-zA-Z]+(?:'[a-z]+)?)\",\n",
    "                 stopwords_list=stopwords.words('english') + list(string.punctuation)):\n",
    "    \"\"\"\n",
    "    Removes stopwords and tokenizes an input tweet/text.\n",
    "    \n",
    "    Args:\n",
    "        tweet (str): text that needs to be processed\n",
    "        \n",
    "        tokenizer (str): chooses different types of tokenizer\n",
    "                         {'word', 'regex', 'tweet'}\n",
    "        \n",
    "        pattern (str): RegEx pattern which will be used to tokenize the input text.\n",
    "                       Not needed unless tokenizer is set to 'regex'.\n",
    "        \n",
    "        stopwords_list (list): List of stopwords that need to be removed from tokens.\n",
    "    \n",
    "\n",
    "    Return:\n",
    "        tokens_stopped (list): List of words that are tokenized from input text\n",
    "    \"\"\"\n",
    "    if tokenizer == 'regex':\n",
    "        # Tokenizes using given regex pattern\n",
    "        tokens = nltk.regexp_tokenize(tweet, pattern)\n",
    "    elif tokenizer == 'tweet':\n",
    "        tokens = TweetTokenizer().tokenize(tweet)\n",
    "    elif tokenizer == 'word':\n",
    "        tokens = word_tokenize(tweet)\n",
    "    \n",
    "    # Filters out all the stop words\n",
    "    if stopwords_list:\n",
    "        tokens_stopped = [token.lower() for token in tokens if token.lower() not in stopwords_list]\n",
    "    \n",
    "        return tokens_stopped\n",
    "    else:\n",
    "        return tokens"
   ]
  },
  {
   "cell_type": "code",
   "execution_count": 333,
   "metadata": {
    "ExecuteTime": {
     "end_time": "2020-11-02T19:56:42.552997Z",
     "start_time": "2020-11-02T19:56:42.503111Z"
    }
   },
   "outputs": [],
   "source": [
    "# Tokenizes each tweet from dataset\n",
    "df1['text_token'] = [process_text(x, stopwords_list=None) for x in df1['text']]"
   ]
  },
  {
   "cell_type": "code",
   "execution_count": 334,
   "metadata": {
    "ExecuteTime": {
     "end_time": "2020-11-02T19:56:44.942130Z",
     "start_time": "2020-11-02T19:56:44.931128Z"
    }
   },
   "outputs": [
    {
     "data": {
      "text/html": [
       "<div>\n",
       "<style scoped>\n",
       "    .dataframe tbody tr th:only-of-type {\n",
       "        vertical-align: middle;\n",
       "    }\n",
       "\n",
       "    .dataframe tbody tr th {\n",
       "        vertical-align: top;\n",
       "    }\n",
       "\n",
       "    .dataframe thead th {\n",
       "        text-align: right;\n",
       "    }\n",
       "</style>\n",
       "<table border=\"1\" class=\"dataframe\">\n",
       "  <thead>\n",
       "    <tr style=\"text-align: right;\">\n",
       "      <th></th>\n",
       "      <th>text</th>\n",
       "      <th>product</th>\n",
       "      <th>target</th>\n",
       "      <th>text_token</th>\n",
       "    </tr>\n",
       "  </thead>\n",
       "  <tbody>\n",
       "    <tr>\n",
       "      <td>0</td>\n",
       "      <td>.@wesley83 I have a 3G iPhone. After 3 hrs twe...</td>\n",
       "      <td>iPhone</td>\n",
       "      <td>Negative emotion</td>\n",
       "      <td>[wesley, I, have, a, G, iPhone, After, hrs, tw...</td>\n",
       "    </tr>\n",
       "    <tr>\n",
       "      <td>1</td>\n",
       "      <td>@jessedee Know about @fludapp ? Awesome iPad/i...</td>\n",
       "      <td>iPad or iPhone App</td>\n",
       "      <td>Positive emotion</td>\n",
       "      <td>[jessedee, Know, about, fludapp, Awesome, iPad...</td>\n",
       "    </tr>\n",
       "    <tr>\n",
       "      <td>2</td>\n",
       "      <td>@swonderlin Can not wait for #iPad 2 also. The...</td>\n",
       "      <td>iPad</td>\n",
       "      <td>Positive emotion</td>\n",
       "      <td>[swonderlin, Can, not, wait, for, iPad, also, ...</td>\n",
       "    </tr>\n",
       "    <tr>\n",
       "      <td>3</td>\n",
       "      <td>@sxsw I hope this year's festival isn't as cra...</td>\n",
       "      <td>iPad or iPhone App</td>\n",
       "      <td>Negative emotion</td>\n",
       "      <td>[sxsw, I, hope, this, year's, festival, isn't,...</td>\n",
       "    </tr>\n",
       "    <tr>\n",
       "      <td>4</td>\n",
       "      <td>@sxtxstate great stuff on Fri #SXSW: Marissa M...</td>\n",
       "      <td>Google</td>\n",
       "      <td>Positive emotion</td>\n",
       "      <td>[sxtxstate, great, stuff, on, Fri, SXSW, Maris...</td>\n",
       "    </tr>\n",
       "  </tbody>\n",
       "</table>\n",
       "</div>"
      ],
      "text/plain": [
       "                                                text             product  \\\n",
       "0  .@wesley83 I have a 3G iPhone. After 3 hrs twe...              iPhone   \n",
       "1  @jessedee Know about @fludapp ? Awesome iPad/i...  iPad or iPhone App   \n",
       "2  @swonderlin Can not wait for #iPad 2 also. The...                iPad   \n",
       "3  @sxsw I hope this year's festival isn't as cra...  iPad or iPhone App   \n",
       "4  @sxtxstate great stuff on Fri #SXSW: Marissa M...              Google   \n",
       "\n",
       "             target                                         text_token  \n",
       "0  Negative emotion  [wesley, I, have, a, G, iPhone, After, hrs, tw...  \n",
       "1  Positive emotion  [jessedee, Know, about, fludapp, Awesome, iPad...  \n",
       "2  Positive emotion  [swonderlin, Can, not, wait, for, iPad, also, ...  \n",
       "3  Negative emotion  [sxsw, I, hope, this, year's, festival, isn't,...  \n",
       "4  Positive emotion  [sxtxstate, great, stuff, on, Fri, SXSW, Maris...  "
      ]
     },
     "execution_count": 334,
     "metadata": {},
     "output_type": "execute_result"
    }
   ],
   "source": [
    "df1.head()"
   ]
  },
  {
   "cell_type": "code",
   "execution_count": 169,
   "metadata": {
    "ExecuteTime": {
     "end_time": "2020-11-02T17:20:00.658751Z",
     "start_time": "2020-11-02T17:20:00.591434Z"
    },
    "scrolled": true
   },
   "outputs": [
    {
     "data": {
      "text/plain": [
       "[('sxsw', 3739),\n",
       " ('mention', 2507),\n",
       " ('ipad', 1449),\n",
       " ('link', 1319),\n",
       " ('rt', 1075),\n",
       " ('apple', 1011),\n",
       " ('google', 830),\n",
       " ('iphone', 711),\n",
       " ('quot', 639),\n",
       " ('store', 596),\n",
       " ('app', 461),\n",
       " ('new', 403),\n",
       " ('austin', 323),\n",
       " ('amp', 233),\n",
       " ('android', 233),\n",
       " ('pop', 231),\n",
       " ('get', 182),\n",
       " ('launch', 182),\n",
       " ('circles', 156),\n",
       " ('social', 155),\n",
       " ('like', 154),\n",
       " ('line', 150),\n",
       " ('time', 147),\n",
       " ('via', 146),\n",
       " ('great', 145),\n",
       " ('party', 139),\n",
       " ('one', 135),\n",
       " (\"i'm\", 132),\n",
       " ('today', 132),\n",
       " ('free', 128),\n",
       " ('day', 128),\n",
       " ('cool', 125),\n",
       " ('w', 120),\n",
       " ('maps', 115),\n",
       " ('mobile', 115),\n",
       " ('apps', 113),\n",
       " ('people', 111),\n",
       " ('go', 111),\n",
       " ('good', 110),\n",
       " ('sxswi', 108),\n",
       " ('network', 104),\n",
       " ('awesome', 99),\n",
       " ('love', 98),\n",
       " ('temporary', 94),\n",
       " ('opening', 91),\n",
       " ('check', 89),\n",
       " ('downtown', 89),\n",
       " ('see', 89),\n",
       " ('got', 88),\n",
       " ('need', 85),\n",
       " ('going', 80),\n",
       " ('thanks', 80),\n",
       " ('even', 80),\n",
       " ('popup', 79),\n",
       " ('called', 77),\n",
       " ('mayer', 76),\n",
       " ('first', 75),\n",
       " ('open', 75),\n",
       " ('major', 73),\n",
       " ('around', 72),\n",
       " ('best', 72),\n",
       " ('design', 71),\n",
       " ('think', 69),\n",
       " ('users', 68),\n",
       " ('marissa', 67),\n",
       " ('really', 67),\n",
       " ('next', 67),\n",
       " ('wins', 67),\n",
       " ('want', 66),\n",
       " ('use', 66),\n",
       " ('come', 65),\n",
       " ('news', 64),\n",
       " ('tech', 62),\n",
       " ('ever', 62),\n",
       " ('win', 60),\n",
       " ('us', 59),\n",
       " ('heard', 58),\n",
       " ('video', 58),\n",
       " ('would', 58),\n",
       " (\"google's\", 57),\n",
       " ('know', 56),\n",
       " ('nice', 55),\n",
       " ('using', 54),\n",
       " ('technology', 54),\n",
       " ('wait', 51),\n",
       " ('still', 51),\n",
       " ('fun', 51),\n",
       " ('shop', 51),\n",
       " ('big', 51),\n",
       " ('smart', 50),\n",
       " ('right', 50),\n",
       " ('year', 50),\n",
       " ('game', 49),\n",
       " ('coming', 49),\n",
       " ('possibly', 49),\n",
       " ('comes', 48),\n",
       " ('gt', 48),\n",
       " (\"apple's\", 48),\n",
       " ('phone', 48),\n",
       " ('panel', 48),\n",
       " ('set', 48),\n",
       " ('better', 48),\n",
       " ('team', 47),\n",
       " ('case', 46),\n",
       " ('wow', 46),\n",
       " ('also', 45),\n",
       " ('marketing', 45),\n",
       " ('last', 45),\n",
       " ('yes', 45),\n",
       " ('begins', 45),\n",
       " ('way', 45),\n",
       " (\"i've\", 44),\n",
       " ('everyone', 43),\n",
       " ('buy', 42),\n",
       " ('looks', 42),\n",
       " ('thing', 42),\n",
       " ('search', 42),\n",
       " ('talk', 42),\n",
       " ('already', 41),\n",
       " ('much', 41),\n",
       " ('every', 41),\n",
       " (\"can't\", 40),\n",
       " ('could', 40),\n",
       " ('away', 40),\n",
       " ('ipads', 40),\n",
       " ('week', 40),\n",
       " ('getting', 40),\n",
       " ('session', 40),\n",
       " ('conferences', 39),\n",
       " ('may', 39),\n",
       " ('hey', 39),\n",
       " ('live', 39),\n",
       " ('web', 39),\n",
       " (\"i'll\", 38),\n",
       " ('fast', 38),\n",
       " ('make', 38),\n",
       " ('temp', 38),\n",
       " ('back', 38),\n",
       " ('work', 38),\n",
       " ('look', 38),\n",
       " ('looking', 37),\n",
       " ('says', 37),\n",
       " ('long', 37),\n",
       " ('music', 37),\n",
       " ('com', 36),\n",
       " ('many', 36),\n",
       " ('th', 36),\n",
       " (\"one's\", 36),\n",
       " ('well', 36),\n",
       " ('must', 34),\n",
       " ('rumor', 34),\n",
       " ('amazing', 34),\n",
       " ('download', 34),\n",
       " ('location', 34),\n",
       " ('show', 33),\n",
       " ('future', 33),\n",
       " ('tapworthy', 33),\n",
       " ('g', 32),\n",
       " ('giving', 32),\n",
       " ('excited', 32),\n",
       " ('far', 32),\n",
       " ('oh', 32),\n",
       " ('japan', 32),\n",
       " ('u', 32),\n",
       " ('life', 32),\n",
       " ('ready', 32),\n",
       " ('action', 32),\n",
       " ('tonight', 31),\n",
       " ('tomorrow', 31),\n",
       " ('winning', 31),\n",
       " ('tv', 31),\n",
       " ('digital', 31),\n",
       " ('interesting', 31),\n",
       " ('others', 31),\n",
       " ('product', 31),\n",
       " (\"we're\", 31),\n",
       " ('interactive', 30),\n",
       " ('take', 30),\n",
       " ('keep', 30),\n",
       " ('pretty', 30),\n",
       " ('booth', 30),\n",
       " ('guy', 30),\n",
       " ('sell', 29),\n",
       " (\"that's\", 29),\n",
       " ('company', 29),\n",
       " ('tweet', 29),\n",
       " ('traffic', 29),\n",
       " ('blackberry', 29),\n",
       " ('bing', 29),\n",
       " ('years', 29),\n",
       " ('hot', 29),\n",
       " (\"they're\", 28),\n",
       " ('someone', 28),\n",
       " ('itunes', 28),\n",
       " ('available', 28),\n",
       " ('battery', 28),\n",
       " ('laptop', 28),\n",
       " ('brilliant', 28),\n",
       " ('attendees', 28),\n",
       " ('friends', 28)]"
      ]
     },
     "execution_count": 169,
     "metadata": {},
     "output_type": "execute_result"
    }
   ],
   "source": [
    "# Total vocabularies used in the tweets\n",
    "total_tweets = []\n",
    "vocab_tweets = set()\n",
    "for tweet in df1['text_token']:\n",
    "    total_tweets += tweet\n",
    "    vocab_tweets.update(tweet)\n",
    "total_tweets_freqdist = FreqDist(total_tweets)\n",
    "\n",
    "# Prints out top 200 most used vocabularies\n",
    "total_tweets_freqdist.most_common(200)"
   ]
  },
  {
   "cell_type": "code",
   "execution_count": 170,
   "metadata": {
    "ExecuteTime": {
     "end_time": "2020-11-02T17:20:00.742443Z",
     "start_time": "2020-11-02T17:20:00.739450Z"
    }
   },
   "outputs": [],
   "source": [
    "from sklearn.model_selection import train_test_split"
   ]
  },
  {
   "cell_type": "code",
   "execution_count": 171,
   "metadata": {
    "ExecuteTime": {
     "end_time": "2020-11-02T17:20:00.903680Z",
     "start_time": "2020-11-02T17:20:00.894831Z"
    }
   },
   "outputs": [],
   "source": [
    "# Splits the data into train and test set\n",
    "X_train, X_test, y_train, y_test = train_test_split(df1[['text_token']],\n",
    "                                                    df1['target'], \n",
    "                                                    random_state=42)"
   ]
  },
  {
   "cell_type": "code",
   "execution_count": 191,
   "metadata": {
    "ExecuteTime": {
     "end_time": "2020-11-02T17:26:04.473047Z",
     "start_time": "2020-11-02T17:26:04.457834Z"
    },
    "id": "8DNKDQ_AGezW"
   },
   "outputs": [],
   "source": [
    "import nltk\n",
    "from nltk.corpus import stopwords\n",
    "from nltk.tokenize import TweetTokenizer\n",
    "import string\n",
    "from nltk import word_tokenize, FreqDist\n",
    "from sklearn.feature_extraction.text import TfidfVectorizer\n",
    "from sklearn.metrics import accuracy_score\n",
    "from sklearn.feature_extraction.text import TfidfVectorizer, CountVectorizer\n",
    "from sklearn.pipeline import Pipeline\n",
    "from sklearn.ensemble import RandomForestClassifier\n",
    "from xgboost import XGBClassifier\n",
    "from sklearn.svm import SVC\n",
    "from sklearn.naive_bayes import MultinomialNB\n",
    "import six\n",
    "import sys\n",
    "sys.modules['sklearn.externals.six'] = six\n",
    "from imblearn.over_sampling import SMOTE\n",
    "np.random.seed(0)"
   ]
  },
  {
   "cell_type": "code",
   "execution_count": 228,
   "metadata": {
    "ExecuteTime": {
     "end_time": "2020-11-02T19:04:59.423354Z",
     "start_time": "2020-11-02T19:04:59.420047Z"
    }
   },
   "outputs": [],
   "source": [
    "# The following function allows us to use alread-tokenized tweets in TF-IDF vectorizer\n",
    "# Source: https://stackoverflow.com/questions/48671270/use-sklearn-tfidfvectorizer-with-already-tokenized-inputs\n",
    "def identity_tokenizer(text):\n",
    "    return text\n",
    "# Word Vectorizer\n",
    "vectorizer = TfidfVectorizer(tokenizer=identity_tokenizer, lowercase=False)"
   ]
  },
  {
   "cell_type": "code",
   "execution_count": 229,
   "metadata": {
    "ExecuteTime": {
     "end_time": "2020-11-02T19:04:59.775613Z",
     "start_time": "2020-11-02T19:04:59.721011Z"
    }
   },
   "outputs": [],
   "source": [
    "X_train_vect = vectorizer.fit_transform(X_train['text_token'])\n",
    "X_test_vect = vectorizer.transform(X_test['text_token'])"
   ]
  },
  {
   "cell_type": "markdown",
   "metadata": {},
   "source": [
    "## Models"
   ]
  },
  {
   "cell_type": "code",
   "execution_count": 230,
   "metadata": {
    "ExecuteTime": {
     "end_time": "2020-11-02T19:05:05.678350Z",
     "start_time": "2020-11-02T19:05:05.675850Z"
    }
   },
   "outputs": [],
   "source": [
    "import src.useful_codes as uc"
   ]
  },
  {
   "cell_type": "code",
   "execution_count": 231,
   "metadata": {
    "ExecuteTime": {
     "end_time": "2020-11-02T19:05:06.191879Z",
     "start_time": "2020-11-02T19:05:06.184328Z"
    }
   },
   "outputs": [
    {
     "data": {
      "text/plain": [
       "Positive emotion    0.845547\n",
       "Negative emotion    0.154453\n",
       "Name: target, dtype: float64"
      ]
     },
     "execution_count": 231,
     "metadata": {},
     "output_type": "execute_result"
    }
   ],
   "source": [
    "pd.Series(y_test).value_counts(1)"
   ]
  },
  {
   "cell_type": "code",
   "execution_count": 272,
   "metadata": {
    "ExecuteTime": {
     "end_time": "2020-11-02T19:19:31.201504Z",
     "start_time": "2020-11-02T19:19:31.194399Z"
    }
   },
   "outputs": [],
   "source": [
    "def run_model(name, params=None, data=None, report=True):\n",
    "    \"\"\"\n",
    "    Fits and evaluates model\n",
    "    \n",
    "    Args:\n",
    "        name (str): Name of model.\n",
    "                    {'RF', 'XGB', 'NB', 'SVM'}\n",
    "                    \n",
    "        params (dict): Dictionary of parameters for the model.\n",
    "        \n",
    "        **data (dataframe): X_train, X_test, y_train, y_test\n",
    "        \n",
    "        report (bool): True if classification report/confusion matrix is wanted.\n",
    "    \n",
    "    Returns:\n",
    "        model (object): fitted model\n",
    "    \"\"\"\n",
    "\n",
    "    if name == 'RF':\n",
    "        if params:\n",
    "            clf = RandomForestClassifier(**params)\n",
    "        else:\n",
    "            clf = RandomForestClassifier()\n",
    "    elif name == 'NB':\n",
    "        if params:\n",
    "            clf = MultinomialNB(**params)\n",
    "        else:\n",
    "            clf = MultinomialNB()\n",
    "    elif name == 'XGB':\n",
    "        if params:\n",
    "            clf = XGBClassifier(**params)\n",
    "        else:\n",
    "            clf = XGBClassifier()\n",
    "    \n",
    "    clf.fit(data['X_train'], data['y_train'])\n",
    "    \n",
    "    if report:\n",
    "        uc.evaluate_clf_model(clf, data['X_train'], data['y_train'],\n",
    "                              data['X_test'], data['y_test'],\n",
    "                              classes=['Negative emotion', 'Positive emotion'],\n",
    "                              label=f'{name} Classifier');\n",
    "    return clf"
   ]
  },
  {
   "cell_type": "code",
   "execution_count": 265,
   "metadata": {
    "ExecuteTime": {
     "end_time": "2020-11-02T19:18:25.237391Z",
     "start_time": "2020-11-02T19:18:23.941361Z"
    }
   },
   "outputs": [
    {
     "name": "stdout",
     "output_type": "stream",
     "text": [
      "------------------------------------------------------------\n",
      "[i] CLASSIFICATION REPORT Rf Classifier\n",
      "------------------------------------------------------------\n",
      "Train Accuracy :  1.0\n",
      "Test Accuracy :  0.8805\n",
      "                  precision    recall  f1-score   support\n",
      "\n",
      "Negative emotion       0.90      0.26      0.40       137\n",
      "Positive emotion       0.88      0.99      0.93       750\n",
      "\n",
      "        accuracy                           0.88       887\n",
      "       macro avg       0.89      0.63      0.67       887\n",
      "    weighted avg       0.88      0.88      0.85       887\n",
      "\n",
      "------------------------------------------------------------\n",
      "\n",
      "\n"
     ]
    },
    {
     "data": {
      "text/plain": [
       "RandomForestClassifier()"
      ]
     },
     "execution_count": 265,
     "metadata": {},
     "output_type": "execute_result"
    },
    {
     "data": {
      "image/png": "[encoded data removed]",
      "text/plain": [
       "<Figure size 720x288 with 2 Axes>"
      ]
     },
     "metadata": {
      "needs_background": "light"
     },
     "output_type": "display_data"
    }
   ],
   "source": [
    "run_model(name='RF',\n",
    "          data={'X_train': X_train_vect, 'X_test': X_test_vect, \n",
    "                \"y_train\": y_train, 'y_test': y_test})"
   ]
  },
  {
   "cell_type": "code",
   "execution_count": 266,
   "metadata": {
    "ExecuteTime": {
     "end_time": "2020-11-02T19:18:30.483067Z",
     "start_time": "2020-11-02T19:18:25.239903Z"
    }
   },
   "outputs": [
    {
     "name": "stdout",
     "output_type": "stream",
     "text": [
      "------------------------------------------------------------\n",
      "[i] CLASSIFICATION REPORT Rf Classifier\n",
      "------------------------------------------------------------\n",
      "Train Accuracy :  1.0\n",
      "Test Accuracy :  0.8681\n",
      "                  precision    recall  f1-score   support\n",
      "\n",
      "Negative emotion       0.86      0.18      0.29       137\n",
      "Positive emotion       0.87      0.99      0.93       750\n",
      "\n",
      "        accuracy                           0.87       887\n",
      "       macro avg       0.86      0.58      0.61       887\n",
      "    weighted avg       0.87      0.87      0.83       887\n",
      "\n",
      "------------------------------------------------------------\n",
      "\n",
      "\n"
     ]
    },
    {
     "data": {
      "text/plain": [
       "RandomForestClassifier(class_weight='balanced', max_features='sqrt',\n",
       "                       n_estimators=500)"
      ]
     },
     "execution_count": 266,
     "metadata": {},
     "output_type": "execute_result"
    },
    {
     "data": {
      "image/png": "[encoded data removed]",
      "text/plain": [
       "<Figure size 720x288 with 2 Axes>"
      ]
     },
     "metadata": {
      "needs_background": "light"
     },
     "output_type": "display_data"
    }
   ],
   "source": [
    "run_model(name='RF',\n",
    "          params=dict(n_estimators=500,\n",
    "                      class_weight='balanced',\n",
    "                      max_features='sqrt'),\n",
    "          data={'X_train': X_train_vect, 'X_test': X_test_vect, \n",
    "                \"y_train\": y_train, 'y_test': y_test})"
   ]
  },
  {
   "cell_type": "code",
   "execution_count": 262,
   "metadata": {
    "ExecuteTime": {
     "end_time": "2020-11-02T19:17:35.580219Z",
     "start_time": "2020-11-02T19:17:35.266489Z"
    },
    "scrolled": false
   },
   "outputs": [
    {
     "name": "stdout",
     "output_type": "stream",
     "text": [
      "------------------------------------------------------------\n",
      "[i] CLASSIFICATION REPORT Nb Classifier\n",
      "------------------------------------------------------------\n",
      "Train Accuracy :  0.8564\n",
      "Test Accuracy :  0.8534\n",
      "                  precision    recall  f1-score   support\n",
      "\n",
      "Negative emotion       1.00      0.05      0.10       137\n",
      "Positive emotion       0.85      1.00      0.92       750\n",
      "\n",
      "        accuracy                           0.85       887\n",
      "       macro avg       0.93      0.53      0.51       887\n",
      "    weighted avg       0.88      0.85      0.79       887\n",
      "\n",
      "------------------------------------------------------------\n",
      "\n",
      "\n"
     ]
    },
    {
     "data": {
      "text/plain": [
       "MultinomialNB()"
      ]
     },
     "execution_count": 262,
     "metadata": {},
     "output_type": "execute_result"
    },
    {
     "data": {
      "image/png": "[encoded data removed]",
      "text/plain": [
       "<Figure size 720x288 with 2 Axes>"
      ]
     },
     "metadata": {
      "needs_background": "light"
     },
     "output_type": "display_data"
    }
   ],
   "source": [
    "run_model(name='NB',\n",
    "          data={'X_train': X_train_vect, 'X_test': X_test_vect, \n",
    "                \"y_train\": y_train, 'y_test': y_test})"
   ]
  },
  {
   "cell_type": "code",
   "execution_count": 267,
   "metadata": {
    "ExecuteTime": {
     "end_time": "2020-11-02T19:18:32.698003Z",
     "start_time": "2020-11-02T19:18:30.484711Z"
    }
   },
   "outputs": [
    {
     "name": "stdout",
     "output_type": "stream",
     "text": [
      "------------------------------------------------------------\n",
      "[i] CLASSIFICATION REPORT Xgb Classifier\n",
      "------------------------------------------------------------\n",
      "Train Accuracy :  0.8655\n",
      "Test Accuracy :  0.8602\n",
      "                  precision    recall  f1-score   support\n",
      "\n",
      "Negative emotion       0.84      0.12      0.21       137\n",
      "Positive emotion       0.86      1.00      0.92       750\n",
      "\n",
      "        accuracy                           0.86       887\n",
      "       macro avg       0.85      0.56      0.56       887\n",
      "    weighted avg       0.86      0.86      0.81       887\n",
      "\n",
      "------------------------------------------------------------\n",
      "\n",
      "\n"
     ]
    },
    {
     "data": {
      "text/plain": [
       "XGBClassifier()"
      ]
     },
     "execution_count": 267,
     "metadata": {},
     "output_type": "execute_result"
    },
    {
     "data": {
      "image/png": "[encoded data removed]",
      "text/plain": [
       "<Figure size 720x288 with 2 Axes>"
      ]
     },
     "metadata": {
      "needs_background": "light"
     },
     "output_type": "display_data"
    }
   ],
   "source": [
    "run_model(name='XGB',\n",
    "          data={'X_train': X_train_vect, 'X_test': X_test_vect, \n",
    "                \"y_train\": y_train, 'y_test': y_test})"
   ]
  },
  {
   "cell_type": "markdown",
   "metadata": {},
   "source": [
    "## SMOTE"
   ]
  },
  {
   "cell_type": "code",
   "execution_count": 271,
   "metadata": {
    "ExecuteTime": {
     "end_time": "2020-11-02T19:19:12.927539Z",
     "start_time": "2020-11-02T19:19:11.871197Z"
    }
   },
   "outputs": [],
   "source": [
    "# Oversamples\n",
    "X_train_vect_smote, y_train_smote = SMOTE().fit_resample(X_train_tf_idf, y_train)"
   ]
  },
  {
   "cell_type": "code",
   "execution_count": 273,
   "metadata": {
    "ExecuteTime": {
     "end_time": "2020-11-02T19:19:38.380555Z",
     "start_time": "2020-11-02T19:19:36.536149Z"
    }
   },
   "outputs": [
    {
     "name": "stdout",
     "output_type": "stream",
     "text": [
      "------------------------------------------------------------\n",
      "[i] CLASSIFICATION REPORT RF Classifier\n",
      "------------------------------------------------------------\n",
      "Train Accuracy :  1.0\n",
      "Test Accuracy :  0.8771\n",
      "                  precision    recall  f1-score   support\n",
      "\n",
      "Negative emotion       0.83      0.26      0.39       137\n",
      "Positive emotion       0.88      0.99      0.93       750\n",
      "\n",
      "        accuracy                           0.88       887\n",
      "       macro avg       0.86      0.62      0.66       887\n",
      "    weighted avg       0.87      0.88      0.85       887\n",
      "\n",
      "------------------------------------------------------------\n",
      "\n",
      "\n"
     ]
    },
    {
     "data": {
      "text/plain": [
       "RandomForestClassifier()"
      ]
     },
     "execution_count": 273,
     "metadata": {},
     "output_type": "execute_result"
    },
    {
     "data": {
      "image/png": "[encoded data removed]",
      "text/plain": [
       "<Figure size 720x288 with 2 Axes>"
      ]
     },
     "metadata": {
      "needs_background": "light"
     },
     "output_type": "display_data"
    }
   ],
   "source": [
    "run_model(name='RF',\n",
    "          data={'X_train': X_train_vect_smote, 'X_test': X_test_vect, \n",
    "                \"y_train\": y_train_smote, 'y_test': y_test})"
   ]
  },
  {
   "cell_type": "code",
   "execution_count": 275,
   "metadata": {
    "ExecuteTime": {
     "end_time": "2020-11-02T19:20:32.082256Z",
     "start_time": "2020-11-02T19:20:31.764625Z"
    }
   },
   "outputs": [
    {
     "name": "stdout",
     "output_type": "stream",
     "text": [
      "------------------------------------------------------------\n",
      "[i] CLASSIFICATION REPORT NB Classifier\n",
      "------------------------------------------------------------\n",
      "Train Accuracy :  0.956\n",
      "Test Accuracy :  0.8309\n",
      "                  precision    recall  f1-score   support\n",
      "\n",
      "Negative emotion       0.47      0.73      0.57       137\n",
      "Positive emotion       0.95      0.85      0.89       750\n",
      "\n",
      "        accuracy                           0.83       887\n",
      "       macro avg       0.71      0.79      0.73       887\n",
      "    weighted avg       0.87      0.83      0.84       887\n",
      "\n",
      "------------------------------------------------------------\n",
      "\n",
      "\n"
     ]
    },
    {
     "data": {
      "text/plain": [
       "MultinomialNB()"
      ]
     },
     "execution_count": 275,
     "metadata": {},
     "output_type": "execute_result"
    },
    {
     "data": {
      "image/png": "[encoded data removed]",
      "text/plain": [
       "<Figure size 720x288 with 2 Axes>"
      ]
     },
     "metadata": {
      "needs_background": "light"
     },
     "output_type": "display_data"
    }
   ],
   "source": [
    "run_model(name='NB',\n",
    "          data={'X_train': X_train_vect_smote, 'X_test': X_test_vect, \n",
    "                \"y_train\": y_train_smote, 'y_test': y_test})"
   ]
  },
  {
   "cell_type": "code",
   "execution_count": 276,
   "metadata": {
    "ExecuteTime": {
     "end_time": "2020-11-02T19:20:50.015453Z",
     "start_time": "2020-11-02T19:20:47.222076Z"
    }
   },
   "outputs": [
    {
     "name": "stdout",
     "output_type": "stream",
     "text": [
      "------------------------------------------------------------\n",
      "[i] CLASSIFICATION REPORT XGB Classifier\n",
      "------------------------------------------------------------\n",
      "Train Accuracy :  0.8905\n",
      "Test Accuracy :  0.8602\n",
      "                  precision    recall  f1-score   support\n",
      "\n",
      "Negative emotion       0.70      0.17      0.27       137\n",
      "Positive emotion       0.87      0.99      0.92       750\n",
      "\n",
      "        accuracy                           0.86       887\n",
      "       macro avg       0.78      0.58      0.60       887\n",
      "    weighted avg       0.84      0.86      0.82       887\n",
      "\n",
      "------------------------------------------------------------\n",
      "\n",
      "\n"
     ]
    },
    {
     "data": {
      "text/plain": [
       "XGBClassifier()"
      ]
     },
     "execution_count": 276,
     "metadata": {},
     "output_type": "execute_result"
    },
    {
     "data": {
      "image/png": "[encoded data removed]",
      "text/plain": [
       "<Figure size 720x288 with 2 Axes>"
      ]
     },
     "metadata": {
      "needs_background": "light"
     },
     "output_type": "display_data"
    }
   ],
   "source": [
    "run_model(name='XGB',\n",
    "          data={'X_train': X_train_vect_smote, 'X_test': X_test_vect, \n",
    "                \"y_train\": y_train_smote, 'y_test': y_test})"
   ]
  },
  {
   "cell_type": "markdown",
   "metadata": {},
   "source": [
    "### Using Additional Dataset"
   ]
  },
  {
   "cell_type": "markdown",
   "metadata": {},
   "source": [
    "We have seen that we have a couple of problems with the given dataset:\n",
    "    \n",
    "    [1]. Imbalance\n",
    "    \n",
    "            No emotion toward brand or product    0.592654\n",
    "            Positive emotion                      0.327505\n",
    "            Negative emotion                      0.062686\n",
    "            I can't tell                          0.017156\n",
    "            \n",
    "    [2]. Relatively small data size: 9093 rows\n",
    "    * The total number of rows may seem like it's a reasonable number, but considering its class imbalance, the number is quite small.\n",
    "\n",
    "So, to get around this, what we will do is that we will implement a dataset that contains electronic reviews from Amazon and BestBuy.\n",
    "\n",
    "*Reminder: This dataset can be obtained at https://www.kaggle.com/datafiniti/amazon-and-best-buy-electronics"
   ]
  },
  {
   "cell_type": "code",
   "execution_count": 296,
   "metadata": {
    "ExecuteTime": {
     "end_time": "2020-11-02T19:48:46.251627Z",
     "start_time": "2020-11-02T19:48:45.715344Z"
    }
   },
   "outputs": [],
   "source": [
    "# Import the new dataset\n",
    "df2 = pd.read_csv('data/amazon_review.csv')"
   ]
  },
  {
   "cell_type": "code",
   "execution_count": 297,
   "metadata": {
    "ExecuteTime": {
     "end_time": "2020-11-02T19:48:46.284460Z",
     "start_time": "2020-11-02T19:48:46.253583Z"
    }
   },
   "outputs": [
    {
     "data": {
      "text/html": [
       "<div>\n",
       "<style scoped>\n",
       "    .dataframe tbody tr th:only-of-type {\n",
       "        vertical-align: middle;\n",
       "    }\n",
       "\n",
       "    .dataframe tbody tr th {\n",
       "        vertical-align: top;\n",
       "    }\n",
       "\n",
       "    .dataframe thead th {\n",
       "        text-align: right;\n",
       "    }\n",
       "</style>\n",
       "<table border=\"1\" class=\"dataframe\">\n",
       "  <thead>\n",
       "    <tr style=\"text-align: right;\">\n",
       "      <th></th>\n",
       "      <th>id</th>\n",
       "      <th>name</th>\n",
       "      <th>asins</th>\n",
       "      <th>brand</th>\n",
       "      <th>categories</th>\n",
       "      <th>keys</th>\n",
       "      <th>manufacturer</th>\n",
       "      <th>reviews.date</th>\n",
       "      <th>reviews.dateAdded</th>\n",
       "      <th>reviews.dateSeen</th>\n",
       "      <th>...</th>\n",
       "      <th>reviews.doRecommend</th>\n",
       "      <th>reviews.id</th>\n",
       "      <th>reviews.numHelpful</th>\n",
       "      <th>reviews.rating</th>\n",
       "      <th>reviews.sourceURLs</th>\n",
       "      <th>reviews.text</th>\n",
       "      <th>reviews.title</th>\n",
       "      <th>reviews.userCity</th>\n",
       "      <th>reviews.userProvince</th>\n",
       "      <th>reviews.username</th>\n",
       "    </tr>\n",
       "  </thead>\n",
       "  <tbody>\n",
       "    <tr>\n",
       "      <td>0</td>\n",
       "      <td>AVqkIhwDv8e3D1O-lebb</td>\n",
       "      <td>All-New Fire HD 8 Tablet, 8 HD Display, Wi-Fi,...</td>\n",
       "      <td>B01AHB9CN2</td>\n",
       "      <td>Amazon</td>\n",
       "      <td>Electronics,iPad &amp; Tablets,All Tablets,Fire Ta...</td>\n",
       "      <td>841667104676,amazon/53004484,amazon/b01ahb9cn2...</td>\n",
       "      <td>Amazon</td>\n",
       "      <td>2017-01-13T00:00:00.000Z</td>\n",
       "      <td>2017-07-03T23:33:15Z</td>\n",
       "      <td>2017-06-07T09:04:00.000Z,2017-04-30T00:45:00.000Z</td>\n",
       "      <td>...</td>\n",
       "      <td>True</td>\n",
       "      <td>NaN</td>\n",
       "      <td>0.0</td>\n",
       "      <td>5.0</td>\n",
       "      <td>http://reviews.bestbuy.com/3545/5620406/review...</td>\n",
       "      <td>This product so far has not disappointed. My c...</td>\n",
       "      <td>Kindle</td>\n",
       "      <td>NaN</td>\n",
       "      <td>NaN</td>\n",
       "      <td>Adapter</td>\n",
       "    </tr>\n",
       "    <tr>\n",
       "      <td>1</td>\n",
       "      <td>AVqkIhwDv8e3D1O-lebb</td>\n",
       "      <td>All-New Fire HD 8 Tablet, 8 HD Display, Wi-Fi,...</td>\n",
       "      <td>B01AHB9CN2</td>\n",
       "      <td>Amazon</td>\n",
       "      <td>Electronics,iPad &amp; Tablets,All Tablets,Fire Ta...</td>\n",
       "      <td>841667104676,amazon/53004484,amazon/b01ahb9cn2...</td>\n",
       "      <td>Amazon</td>\n",
       "      <td>2017-01-13T00:00:00.000Z</td>\n",
       "      <td>2017-07-03T23:33:15Z</td>\n",
       "      <td>2017-06-07T09:04:00.000Z,2017-04-30T00:45:00.000Z</td>\n",
       "      <td>...</td>\n",
       "      <td>True</td>\n",
       "      <td>NaN</td>\n",
       "      <td>0.0</td>\n",
       "      <td>5.0</td>\n",
       "      <td>http://reviews.bestbuy.com/3545/5620406/review...</td>\n",
       "      <td>great for beginner or experienced person. Boug...</td>\n",
       "      <td>very fast</td>\n",
       "      <td>NaN</td>\n",
       "      <td>NaN</td>\n",
       "      <td>truman</td>\n",
       "    </tr>\n",
       "    <tr>\n",
       "      <td>2</td>\n",
       "      <td>AVqkIhwDv8e3D1O-lebb</td>\n",
       "      <td>All-New Fire HD 8 Tablet, 8 HD Display, Wi-Fi,...</td>\n",
       "      <td>B01AHB9CN2</td>\n",
       "      <td>Amazon</td>\n",
       "      <td>Electronics,iPad &amp; Tablets,All Tablets,Fire Ta...</td>\n",
       "      <td>841667104676,amazon/53004484,amazon/b01ahb9cn2...</td>\n",
       "      <td>Amazon</td>\n",
       "      <td>2017-01-13T00:00:00.000Z</td>\n",
       "      <td>2017-07-03T23:33:15Z</td>\n",
       "      <td>2017-06-07T09:04:00.000Z,2017-04-30T00:45:00.000Z</td>\n",
       "      <td>...</td>\n",
       "      <td>True</td>\n",
       "      <td>NaN</td>\n",
       "      <td>0.0</td>\n",
       "      <td>5.0</td>\n",
       "      <td>http://reviews.bestbuy.com/3545/5620406/review...</td>\n",
       "      <td>Inexpensive tablet for him to use and learn on...</td>\n",
       "      <td>Beginner tablet for our 9 year old son.</td>\n",
       "      <td>NaN</td>\n",
       "      <td>NaN</td>\n",
       "      <td>DaveZ</td>\n",
       "    </tr>\n",
       "    <tr>\n",
       "      <td>3</td>\n",
       "      <td>AVqkIhwDv8e3D1O-lebb</td>\n",
       "      <td>All-New Fire HD 8 Tablet, 8 HD Display, Wi-Fi,...</td>\n",
       "      <td>B01AHB9CN2</td>\n",
       "      <td>Amazon</td>\n",
       "      <td>Electronics,iPad &amp; Tablets,All Tablets,Fire Ta...</td>\n",
       "      <td>841667104676,amazon/53004484,amazon/b01ahb9cn2...</td>\n",
       "      <td>Amazon</td>\n",
       "      <td>2017-01-13T00:00:00.000Z</td>\n",
       "      <td>2017-07-03T23:33:15Z</td>\n",
       "      <td>2017-06-07T09:04:00.000Z,2017-04-30T00:45:00.000Z</td>\n",
       "      <td>...</td>\n",
       "      <td>True</td>\n",
       "      <td>NaN</td>\n",
       "      <td>0.0</td>\n",
       "      <td>4.0</td>\n",
       "      <td>http://reviews.bestbuy.com/3545/5620406/review...</td>\n",
       "      <td>I've had my Fire HD 8 two weeks now and I love...</td>\n",
       "      <td>Good!!!</td>\n",
       "      <td>NaN</td>\n",
       "      <td>NaN</td>\n",
       "      <td>Shacks</td>\n",
       "    </tr>\n",
       "    <tr>\n",
       "      <td>4</td>\n",
       "      <td>AVqkIhwDv8e3D1O-lebb</td>\n",
       "      <td>All-New Fire HD 8 Tablet, 8 HD Display, Wi-Fi,...</td>\n",
       "      <td>B01AHB9CN2</td>\n",
       "      <td>Amazon</td>\n",
       "      <td>Electronics,iPad &amp; Tablets,All Tablets,Fire Ta...</td>\n",
       "      <td>841667104676,amazon/53004484,amazon/b01ahb9cn2...</td>\n",
       "      <td>Amazon</td>\n",
       "      <td>2017-01-12T00:00:00.000Z</td>\n",
       "      <td>2017-07-03T23:33:15Z</td>\n",
       "      <td>2017-06-07T09:04:00.000Z,2017-04-30T00:45:00.000Z</td>\n",
       "      <td>...</td>\n",
       "      <td>True</td>\n",
       "      <td>NaN</td>\n",
       "      <td>0.0</td>\n",
       "      <td>5.0</td>\n",
       "      <td>http://reviews.bestbuy.com/3545/5620406/review...</td>\n",
       "      <td>I bought this for my grand daughter when she c...</td>\n",
       "      <td>Fantastic Tablet for kids</td>\n",
       "      <td>NaN</td>\n",
       "      <td>NaN</td>\n",
       "      <td>explore42</td>\n",
       "    </tr>\n",
       "  </tbody>\n",
       "</table>\n",
       "<p>5 rows × 21 columns</p>\n",
       "</div>"
      ],
      "text/plain": [
       "                     id                                               name  \\\n",
       "0  AVqkIhwDv8e3D1O-lebb  All-New Fire HD 8 Tablet, 8 HD Display, Wi-Fi,...   \n",
       "1  AVqkIhwDv8e3D1O-lebb  All-New Fire HD 8 Tablet, 8 HD Display, Wi-Fi,...   \n",
       "2  AVqkIhwDv8e3D1O-lebb  All-New Fire HD 8 Tablet, 8 HD Display, Wi-Fi,...   \n",
       "3  AVqkIhwDv8e3D1O-lebb  All-New Fire HD 8 Tablet, 8 HD Display, Wi-Fi,...   \n",
       "4  AVqkIhwDv8e3D1O-lebb  All-New Fire HD 8 Tablet, 8 HD Display, Wi-Fi,...   \n",
       "\n",
       "        asins   brand                                         categories  \\\n",
       "0  B01AHB9CN2  Amazon  Electronics,iPad & Tablets,All Tablets,Fire Ta...   \n",
       "1  B01AHB9CN2  Amazon  Electronics,iPad & Tablets,All Tablets,Fire Ta...   \n",
       "2  B01AHB9CN2  Amazon  Electronics,iPad & Tablets,All Tablets,Fire Ta...   \n",
       "3  B01AHB9CN2  Amazon  Electronics,iPad & Tablets,All Tablets,Fire Ta...   \n",
       "4  B01AHB9CN2  Amazon  Electronics,iPad & Tablets,All Tablets,Fire Ta...   \n",
       "\n",
       "                                                keys manufacturer  \\\n",
       "0  841667104676,amazon/53004484,amazon/b01ahb9cn2...       Amazon   \n",
       "1  841667104676,amazon/53004484,amazon/b01ahb9cn2...       Amazon   \n",
       "2  841667104676,amazon/53004484,amazon/b01ahb9cn2...       Amazon   \n",
       "3  841667104676,amazon/53004484,amazon/b01ahb9cn2...       Amazon   \n",
       "4  841667104676,amazon/53004484,amazon/b01ahb9cn2...       Amazon   \n",
       "\n",
       "               reviews.date     reviews.dateAdded  \\\n",
       "0  2017-01-13T00:00:00.000Z  2017-07-03T23:33:15Z   \n",
       "1  2017-01-13T00:00:00.000Z  2017-07-03T23:33:15Z   \n",
       "2  2017-01-13T00:00:00.000Z  2017-07-03T23:33:15Z   \n",
       "3  2017-01-13T00:00:00.000Z  2017-07-03T23:33:15Z   \n",
       "4  2017-01-12T00:00:00.000Z  2017-07-03T23:33:15Z   \n",
       "\n",
       "                                    reviews.dateSeen  ... reviews.doRecommend  \\\n",
       "0  2017-06-07T09:04:00.000Z,2017-04-30T00:45:00.000Z  ...                True   \n",
       "1  2017-06-07T09:04:00.000Z,2017-04-30T00:45:00.000Z  ...                True   \n",
       "2  2017-06-07T09:04:00.000Z,2017-04-30T00:45:00.000Z  ...                True   \n",
       "3  2017-06-07T09:04:00.000Z,2017-04-30T00:45:00.000Z  ...                True   \n",
       "4  2017-06-07T09:04:00.000Z,2017-04-30T00:45:00.000Z  ...                True   \n",
       "\n",
       "  reviews.id  reviews.numHelpful  reviews.rating  \\\n",
       "0        NaN                 0.0             5.0   \n",
       "1        NaN                 0.0             5.0   \n",
       "2        NaN                 0.0             5.0   \n",
       "3        NaN                 0.0             4.0   \n",
       "4        NaN                 0.0             5.0   \n",
       "\n",
       "                                  reviews.sourceURLs  \\\n",
       "0  http://reviews.bestbuy.com/3545/5620406/review...   \n",
       "1  http://reviews.bestbuy.com/3545/5620406/review...   \n",
       "2  http://reviews.bestbuy.com/3545/5620406/review...   \n",
       "3  http://reviews.bestbuy.com/3545/5620406/review...   \n",
       "4  http://reviews.bestbuy.com/3545/5620406/review...   \n",
       "\n",
       "                                        reviews.text  \\\n",
       "0  This product so far has not disappointed. My c...   \n",
       "1  great for beginner or experienced person. Boug...   \n",
       "2  Inexpensive tablet for him to use and learn on...   \n",
       "3  I've had my Fire HD 8 two weeks now and I love...   \n",
       "4  I bought this for my grand daughter when she c...   \n",
       "\n",
       "                             reviews.title reviews.userCity  \\\n",
       "0                                   Kindle              NaN   \n",
       "1                                very fast              NaN   \n",
       "2  Beginner tablet for our 9 year old son.              NaN   \n",
       "3                                  Good!!!              NaN   \n",
       "4                Fantastic Tablet for kids              NaN   \n",
       "\n",
       "   reviews.userProvince  reviews.username  \n",
       "0                   NaN           Adapter  \n",
       "1                   NaN            truman  \n",
       "2                   NaN             DaveZ  \n",
       "3                   NaN            Shacks  \n",
       "4                   NaN         explore42  \n",
       "\n",
       "[5 rows x 21 columns]"
      ]
     },
     "execution_count": 297,
     "metadata": {},
     "output_type": "execute_result"
    }
   ],
   "source": [
    "df2.head()"
   ]
  },
  {
   "cell_type": "markdown",
   "metadata": {},
   "source": [
    "## Preprocessing"
   ]
  },
  {
   "cell_type": "code",
   "execution_count": 303,
   "metadata": {
    "ExecuteTime": {
     "end_time": "2020-11-02T19:48:53.392021Z",
     "start_time": "2020-11-02T19:48:53.374837Z"
    }
   },
   "outputs": [],
   "source": [
    "df2 = df2[['reviews.text', 'reviews.rating']]"
   ]
  },
  {
   "cell_type": "code",
   "execution_count": 304,
   "metadata": {
    "ExecuteTime": {
     "end_time": "2020-11-02T19:48:53.665531Z",
     "start_time": "2020-11-02T19:48:53.655085Z"
    }
   },
   "outputs": [
    {
     "data": {
      "text/plain": [
       "5.0    23774\n",
       "4.0     8541\n",
       "3.0     1499\n",
       "1.0      410\n",
       "2.0      402\n",
       "Name: reviews.rating, dtype: int64"
      ]
     },
     "execution_count": 304,
     "metadata": {},
     "output_type": "execute_result"
    }
   ],
   "source": [
    "df2['reviews.rating'].value_counts()"
   ]
  },
  {
   "cell_type": "code",
   "execution_count": 305,
   "metadata": {
    "ExecuteTime": {
     "end_time": "2020-11-02T19:48:54.323243Z",
     "start_time": "2020-11-02T19:48:54.320375Z"
    }
   },
   "outputs": [],
   "source": [
    "score_dict = {5.0:'positive', 4.0:'positive', \n",
    "              3.0:'neutral', \n",
    "              2.0:'negative', 1.0:'negative'}"
   ]
  },
  {
   "cell_type": "code",
   "execution_count": 306,
   "metadata": {
    "ExecuteTime": {
     "end_time": "2020-11-02T19:48:54.791298Z",
     "start_time": "2020-11-02T19:48:54.781322Z"
    }
   },
   "outputs": [],
   "source": [
    "df2.dropna(inplace=True)"
   ]
  },
  {
   "cell_type": "code",
   "execution_count": 307,
   "metadata": {
    "ExecuteTime": {
     "end_time": "2020-11-02T19:48:55.731664Z",
     "start_time": "2020-11-02T19:48:55.718116Z"
    }
   },
   "outputs": [],
   "source": [
    "df2['sentiment'] = df2['reviews.rating'].apply(lambda x: score_dict[x])"
   ]
  },
  {
   "cell_type": "code",
   "execution_count": 335,
   "metadata": {
    "ExecuteTime": {
     "end_time": "2020-11-02T19:58:30.199051Z",
     "start_time": "2020-11-02T19:58:30.012530Z"
    }
   },
   "outputs": [
    {
     "data": {
      "text/plain": [
       "<AxesSubplot:>"
      ]
     },
     "execution_count": 335,
     "metadata": {},
     "output_type": "execute_result"
    },
    {
     "data": {
      "image/png": "[encoded data removed]",
      "text/plain": [
       "<Figure size 432x288 with 1 Axes>"
      ]
     },
     "metadata": {
      "needs_background": "light"
     },
     "output_type": "display_data"
    }
   ],
   "source": [
    "df2['sentiment'].value_counts().plot.bar()"
   ]
  },
  {
   "cell_type": "code",
   "execution_count": 311,
   "metadata": {
    "ExecuteTime": {
     "end_time": "2020-11-02T19:50:25.247032Z",
     "start_time": "2020-11-02T19:50:22.492551Z"
    }
   },
   "outputs": [],
   "source": [
    "df2['text_token'] = list(map(process_text, df2['reviews.text']))"
   ]
  },
  {
   "cell_type": "code",
   "execution_count": 312,
   "metadata": {
    "ExecuteTime": {
     "end_time": "2020-11-02T19:50:27.513163Z",
     "start_time": "2020-11-02T19:50:27.491431Z"
    }
   },
   "outputs": [
    {
     "data": {
      "text/html": [
       "<div>\n",
       "<style scoped>\n",
       "    .dataframe tbody tr th:only-of-type {\n",
       "        vertical-align: middle;\n",
       "    }\n",
       "\n",
       "    .dataframe tbody tr th {\n",
       "        vertical-align: top;\n",
       "    }\n",
       "\n",
       "    .dataframe thead th {\n",
       "        text-align: right;\n",
       "    }\n",
       "</style>\n",
       "<table border=\"1\" class=\"dataframe\">\n",
       "  <thead>\n",
       "    <tr style=\"text-align: right;\">\n",
       "      <th></th>\n",
       "      <th>reviews.text</th>\n",
       "      <th>reviews.rating</th>\n",
       "      <th>sentiment</th>\n",
       "      <th>text_token</th>\n",
       "    </tr>\n",
       "  </thead>\n",
       "  <tbody>\n",
       "    <tr>\n",
       "      <td>0</td>\n",
       "      <td>This product so far has not disappointed. My c...</td>\n",
       "      <td>5.0</td>\n",
       "      <td>positive</td>\n",
       "      <td>[product, far, disappointed, children, love, u...</td>\n",
       "    </tr>\n",
       "    <tr>\n",
       "      <td>1</td>\n",
       "      <td>great for beginner or experienced person. Boug...</td>\n",
       "      <td>5.0</td>\n",
       "      <td>positive</td>\n",
       "      <td>[great, beginner, experienced, person, bought,...</td>\n",
       "    </tr>\n",
       "    <tr>\n",
       "      <td>2</td>\n",
       "      <td>Inexpensive tablet for him to use and learn on...</td>\n",
       "      <td>5.0</td>\n",
       "      <td>positive</td>\n",
       "      <td>[inexpensive, tablet, use, learn, step, nabi, ...</td>\n",
       "    </tr>\n",
       "    <tr>\n",
       "      <td>3</td>\n",
       "      <td>I've had my Fire HD 8 two weeks now and I love...</td>\n",
       "      <td>4.0</td>\n",
       "      <td>positive</td>\n",
       "      <td>[i've, fire, hd, two, weeks, love, tablet, gre...</td>\n",
       "    </tr>\n",
       "    <tr>\n",
       "      <td>4</td>\n",
       "      <td>I bought this for my grand daughter when she c...</td>\n",
       "      <td>5.0</td>\n",
       "      <td>positive</td>\n",
       "      <td>[bought, grand, daughter, comes, visit, set, u...</td>\n",
       "    </tr>\n",
       "    <tr>\n",
       "      <td>...</td>\n",
       "      <td>...</td>\n",
       "      <td>...</td>\n",
       "      <td>...</td>\n",
       "      <td>...</td>\n",
       "    </tr>\n",
       "    <tr>\n",
       "      <td>34655</td>\n",
       "      <td>This is not appreciably faster than any other ...</td>\n",
       "      <td>3.0</td>\n",
       "      <td>neutral</td>\n",
       "      <td>[appreciably, faster, higher, amp, charger, us...</td>\n",
       "    </tr>\n",
       "    <tr>\n",
       "      <td>34656</td>\n",
       "      <td>Amazon should include this charger with the Ki...</td>\n",
       "      <td>1.0</td>\n",
       "      <td>negative</td>\n",
       "      <td>[amazon, include, charger, kindle, fact, they'...</td>\n",
       "    </tr>\n",
       "    <tr>\n",
       "      <td>34657</td>\n",
       "      <td>Love my Kindle Fire but I am really disappoint...</td>\n",
       "      <td>1.0</td>\n",
       "      <td>negative</td>\n",
       "      <td>[love, kindle, fire, really, disappointed, kin...</td>\n",
       "    </tr>\n",
       "    <tr>\n",
       "      <td>34658</td>\n",
       "      <td>I was surprised to find it did not come with a...</td>\n",
       "      <td>1.0</td>\n",
       "      <td>negative</td>\n",
       "      <td>[surprised, find, come, type, charging, cords,...</td>\n",
       "    </tr>\n",
       "    <tr>\n",
       "      <td>34659</td>\n",
       "      <td>to spite the fact that i have nothing but good...</td>\n",
       "      <td>1.0</td>\n",
       "      <td>negative</td>\n",
       "      <td>[spite, fact, nothing, good, things, say, amaz...</td>\n",
       "    </tr>\n",
       "  </tbody>\n",
       "</table>\n",
       "<p>34626 rows × 4 columns</p>\n",
       "</div>"
      ],
      "text/plain": [
       "                                            reviews.text  reviews.rating  \\\n",
       "0      This product so far has not disappointed. My c...             5.0   \n",
       "1      great for beginner or experienced person. Boug...             5.0   \n",
       "2      Inexpensive tablet for him to use and learn on...             5.0   \n",
       "3      I've had my Fire HD 8 two weeks now and I love...             4.0   \n",
       "4      I bought this for my grand daughter when she c...             5.0   \n",
       "...                                                  ...             ...   \n",
       "34655  This is not appreciably faster than any other ...             3.0   \n",
       "34656  Amazon should include this charger with the Ki...             1.0   \n",
       "34657  Love my Kindle Fire but I am really disappoint...             1.0   \n",
       "34658  I was surprised to find it did not come with a...             1.0   \n",
       "34659  to spite the fact that i have nothing but good...             1.0   \n",
       "\n",
       "      sentiment                                         text_token  \n",
       "0      positive  [product, far, disappointed, children, love, u...  \n",
       "1      positive  [great, beginner, experienced, person, bought,...  \n",
       "2      positive  [inexpensive, tablet, use, learn, step, nabi, ...  \n",
       "3      positive  [i've, fire, hd, two, weeks, love, tablet, gre...  \n",
       "4      positive  [bought, grand, daughter, comes, visit, set, u...  \n",
       "...         ...                                                ...  \n",
       "34655   neutral  [appreciably, faster, higher, amp, charger, us...  \n",
       "34656  negative  [amazon, include, charger, kindle, fact, they'...  \n",
       "34657  negative  [love, kindle, fire, really, disappointed, kin...  \n",
       "34658  negative  [surprised, find, come, type, charging, cords,...  \n",
       "34659  negative  [spite, fact, nothing, good, things, say, amaz...  \n",
       "\n",
       "[34626 rows x 4 columns]"
      ]
     },
     "execution_count": 312,
     "metadata": {},
     "output_type": "execute_result"
    }
   ],
   "source": [
    "df2"
   ]
  },
  {
   "cell_type": "code",
   "execution_count": 313,
   "metadata": {
    "ExecuteTime": {
     "end_time": "2020-11-02T19:50:48.329958Z",
     "start_time": "2020-11-02T19:50:48.319056Z"
    }
   },
   "outputs": [
    {
     "ename": "TypeError",
     "evalue": "argument of type 'WordListCorpusReader' is not iterable",
     "output_type": "error",
     "traceback": [
      "\u001b[0;31m---------------------------------------------------------------------------\u001b[0m",
      "\u001b[0;31mTypeError\u001b[0m                                 Traceback (most recent call last)",
      "\u001b[0;32m<ipython-input-313-f44cf358bfe0>\u001b[0m in \u001b[0;36m<module>\u001b[0;34m\u001b[0m\n\u001b[0;32m----> 1\u001b[0;31m \u001b[0;34m'not'\u001b[0m \u001b[0;32min\u001b[0m \u001b[0mstopwords\u001b[0m\u001b[0;34m\u001b[0m\u001b[0;34m\u001b[0m\u001b[0m\n\u001b[0m",
      "\u001b[0;31mTypeError\u001b[0m: argument of type 'WordListCorpusReader' is not iterable"
     ]
    }
   ],
   "source": [
    "'not' in stopwords"
   ]
  },
  {
   "cell_type": "code",
   "execution_count": null,
   "metadata": {},
   "outputs": [],
   "source": []
  },
  {
   "cell_type": "markdown",
   "metadata": {},
   "source": [
    "# Using Deep Learning"
   ]
  },
  {
   "cell_type": "code",
   "execution_count": null,
   "metadata": {},
   "outputs": [],
   "source": []
  }
 ],
 "metadata": {
  "colab": {
   "name": "NLP.ipynb",
   "provenance": []
  },
  "kernelspec": {
   "display_name": "Python [conda env:learn-env] *",
   "language": "python",
   "name": "conda-env-learn-env-py"
  },
  "language_info": {
   "codemirror_mode": {
    "name": "ipython",
    "version": 3
   },
   "file_extension": ".py",
   "mimetype": "text/x-python",
   "name": "python",
   "nbconvert_exporter": "python",
   "pygments_lexer": "ipython3",
   "version": "3.6.9"
  },
  "toc": {
   "base_numbering": 1,
   "nav_menu": {},
   "number_sections": true,
   "sideBar": true,
   "skip_h1_title": false,
   "title_cell": "Table of Contents",
   "title_sidebar": "Contents",
   "toc_cell": false,
   "toc_position": {
    "height": "calc(100% - 180px)",
    "left": "10px",
    "top": "150px",
    "width": "512px"
   },
   "toc_section_display": true,
   "toc_window_display": true
  }
 },
 "nbformat": 4,
 "nbformat_minor": 1
}
