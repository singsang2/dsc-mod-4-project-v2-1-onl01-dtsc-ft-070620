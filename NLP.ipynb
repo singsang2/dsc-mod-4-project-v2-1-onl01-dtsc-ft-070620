{
 "cells": [
  {
   "cell_type": "markdown",
   "metadata": {
    "id": "Mlz-F_Ze8c-f"
   },
   "source": [
    "# Introduction\n"
   ]
  },
  {
   "cell_type": "markdown",
   "metadata": {
    "id": "ZcO9UUUn-CRS"
   },
   "source": []
  },
  {
   "cell_type": "markdown",
   "metadata": {
    "id": "LQs-FOuX9c5I"
   },
   "source": [
    "# Data"
   ]
  },
  {
   "cell_type": "code",
   "execution_count": 1,
   "metadata": {
    "ExecuteTime": {
     "end_time": "2020-10-29T16:07:40.423521Z",
     "start_time": "2020-10-29T16:07:40.421074Z"
    }
   },
   "outputs": [],
   "source": [
    "GOOGLE_DRIVE = False"
   ]
  },
  {
   "cell_type": "code",
   "execution_count": 2,
   "metadata": {
    "ExecuteTime": {
     "end_time": "2020-10-29T16:07:42.730700Z",
     "start_time": "2020-10-29T16:07:41.850300Z"
    },
    "id": "tq_4JrCi-Gag"
   },
   "outputs": [
    {
     "name": "stderr",
     "output_type": "stream",
     "text": [
      "In /opt/anaconda3/envs/learn-env/lib/python3.6/site-packages/matplotlib/mpl-data/stylelib/_classic_test.mplstyle: \n",
      "The text.latex.preview rcparam was deprecated in Matplotlib 3.3 and will be removed two minor releases later.\n",
      "In /opt/anaconda3/envs/learn-env/lib/python3.6/site-packages/matplotlib/mpl-data/stylelib/_classic_test.mplstyle: \n",
      "The mathtext.fallback_to_cm rcparam was deprecated in Matplotlib 3.3 and will be removed two minor releases later.\n",
      "In /opt/anaconda3/envs/learn-env/lib/python3.6/site-packages/matplotlib/mpl-data/stylelib/_classic_test.mplstyle: Support for setting the 'mathtext.fallback_to_cm' rcParam is deprecated since 3.3 and will be removed two minor releases later; use 'mathtext.fallback : 'cm' instead.\n",
      "In /opt/anaconda3/envs/learn-env/lib/python3.6/site-packages/matplotlib/mpl-data/stylelib/_classic_test.mplstyle: \n",
      "The validate_bool_maybe_none function was deprecated in Matplotlib 3.3 and will be removed two minor releases later.\n",
      "In /opt/anaconda3/envs/learn-env/lib/python3.6/site-packages/matplotlib/mpl-data/stylelib/_classic_test.mplstyle: \n",
      "The savefig.jpeg_quality rcparam was deprecated in Matplotlib 3.3 and will be removed two minor releases later.\n",
      "In /opt/anaconda3/envs/learn-env/lib/python3.6/site-packages/matplotlib/mpl-data/stylelib/_classic_test.mplstyle: \n",
      "The keymap.all_axes rcparam was deprecated in Matplotlib 3.3 and will be removed two minor releases later.\n",
      "In /opt/anaconda3/envs/learn-env/lib/python3.6/site-packages/matplotlib/mpl-data/stylelib/_classic_test.mplstyle: \n",
      "The animation.avconv_path rcparam was deprecated in Matplotlib 3.3 and will be removed two minor releases later.\n",
      "In /opt/anaconda3/envs/learn-env/lib/python3.6/site-packages/matplotlib/mpl-data/stylelib/_classic_test.mplstyle: \n",
      "The animation.avconv_args rcparam was deprecated in Matplotlib 3.3 and will be removed two minor releases later.\n"
     ]
    }
   ],
   "source": [
    "# Importing different libraries\n",
    "import pandas as pd\n",
    "import numpy as np\n",
    "import matplotlib.pyplot as plt\n",
    "%matplotlib inline"
   ]
  },
  {
   "cell_type": "code",
   "execution_count": 3,
   "metadata": {
    "ExecuteTime": {
     "end_time": "2020-10-29T16:08:34.037430Z",
     "start_time": "2020-10-29T16:08:33.994685Z"
    },
    "colab": {
     "base_uri": "https://localhost:8080/"
    },
    "id": "dzG8fSP8AX5p",
    "outputId": "2c4c9b3f-8e85-4bde-bae4-6c390b0d1fa8"
   },
   "outputs": [],
   "source": [
    "if GOOGLE_DRIVE:\n",
    "    # Importing data from google drive\n",
    "    from google.colab import drive\n",
    "    drive.mount('/content/drive')\n",
    "    # Importing data from google drive\n",
    "    df = pd.read_csv(\"drive/My Drive/dataset/twitter_sentiment/tweet_product_company.csv\", \n",
    "                     encoding='unicode_escape')\n",
    "else:\n",
    "    df = pd.read_csv('tweet.csv', encoding='unicode_escape')"
   ]
  },
  {
   "cell_type": "code",
   "execution_count": 4,
   "metadata": {
    "ExecuteTime": {
     "end_time": "2020-10-29T16:08:38.472750Z",
     "start_time": "2020-10-29T16:08:38.446882Z"
    },
    "colab": {
     "base_uri": "https://localhost:8080/",
     "height": 204
    },
    "id": "MesJedcaCeOj",
    "outputId": "cf93285f-0aa9-4b10-ade1-55ee7d514ab8"
   },
   "outputs": [
    {
     "data": {
      "text/html": [
       "<div>\n",
       "<style scoped>\n",
       "    .dataframe tbody tr th:only-of-type {\n",
       "        vertical-align: middle;\n",
       "    }\n",
       "\n",
       "    .dataframe tbody tr th {\n",
       "        vertical-align: top;\n",
       "    }\n",
       "\n",
       "    .dataframe thead th {\n",
       "        text-align: right;\n",
       "    }\n",
       "</style>\n",
       "<table border=\"1\" class=\"dataframe\">\n",
       "  <thead>\n",
       "    <tr style=\"text-align: right;\">\n",
       "      <th></th>\n",
       "      <th>text</th>\n",
       "      <th>product</th>\n",
       "      <th>target</th>\n",
       "    </tr>\n",
       "  </thead>\n",
       "  <tbody>\n",
       "    <tr>\n",
       "      <td>0</td>\n",
       "      <td>.@wesley83 I have a 3G iPhone. After 3 hrs twe...</td>\n",
       "      <td>iPhone</td>\n",
       "      <td>Negative emotion</td>\n",
       "    </tr>\n",
       "    <tr>\n",
       "      <td>1</td>\n",
       "      <td>@jessedee Know about @fludapp ? Awesome iPad/i...</td>\n",
       "      <td>iPad or iPhone App</td>\n",
       "      <td>Positive emotion</td>\n",
       "    </tr>\n",
       "    <tr>\n",
       "      <td>2</td>\n",
       "      <td>@swonderlin Can not wait for #iPad 2 also. The...</td>\n",
       "      <td>iPad</td>\n",
       "      <td>Positive emotion</td>\n",
       "    </tr>\n",
       "    <tr>\n",
       "      <td>3</td>\n",
       "      <td>@sxsw I hope this year's festival isn't as cra...</td>\n",
       "      <td>iPad or iPhone App</td>\n",
       "      <td>Negative emotion</td>\n",
       "    </tr>\n",
       "    <tr>\n",
       "      <td>4</td>\n",
       "      <td>@sxtxstate great stuff on Fri #SXSW: Marissa M...</td>\n",
       "      <td>Google</td>\n",
       "      <td>Positive emotion</td>\n",
       "    </tr>\n",
       "  </tbody>\n",
       "</table>\n",
       "</div>"
      ],
      "text/plain": [
       "                                                text             product  \\\n",
       "0  .@wesley83 I have a 3G iPhone. After 3 hrs twe...              iPhone   \n",
       "1  @jessedee Know about @fludapp ? Awesome iPad/i...  iPad or iPhone App   \n",
       "2  @swonderlin Can not wait for #iPad 2 also. The...                iPad   \n",
       "3  @sxsw I hope this year's festival isn't as cra...  iPad or iPhone App   \n",
       "4  @sxtxstate great stuff on Fri #SXSW: Marissa M...              Google   \n",
       "\n",
       "             target  \n",
       "0  Negative emotion  \n",
       "1  Positive emotion  \n",
       "2  Positive emotion  \n",
       "3  Negative emotion  \n",
       "4  Positive emotion  "
      ]
     },
     "execution_count": 4,
     "metadata": {},
     "output_type": "execute_result"
    }
   ],
   "source": [
    "df.columns=['text', 'product', 'target']\n",
    "df.head()"
   ]
  },
  {
   "cell_type": "code",
   "execution_count": 5,
   "metadata": {
    "ExecuteTime": {
     "end_time": "2020-10-29T16:08:40.722032Z",
     "start_time": "2020-10-29T16:08:40.718327Z"
    },
    "colab": {
     "base_uri": "https://localhost:8080/"
    },
    "id": "w4T17T2qDPKD",
    "outputId": "af480705-a91b-4c44-c6d2-982a105f3ae8"
   },
   "outputs": [
    {
     "data": {
      "text/plain": [
       "(9093, 3)"
      ]
     },
     "execution_count": 5,
     "metadata": {},
     "output_type": "execute_result"
    }
   ],
   "source": [
    "df.shape"
   ]
  },
  {
   "cell_type": "code",
   "execution_count": 6,
   "metadata": {
    "ExecuteTime": {
     "end_time": "2020-10-29T16:08:42.134974Z",
     "start_time": "2020-10-29T16:08:42.116114Z"
    },
    "colab": {
     "base_uri": "https://localhost:8080/"
    },
    "id": "iZH9TzOHDRPV",
    "outputId": "dec7fd85-6ae9-4f6d-a8db-9f8e01579201"
   },
   "outputs": [
    {
     "data": {
      "text/plain": [
       "No emotion toward brand or product    0.592654\n",
       "Positive emotion                      0.327505\n",
       "Negative emotion                      0.062686\n",
       "I can't tell                          0.017156\n",
       "Name: target, dtype: float64"
      ]
     },
     "execution_count": 6,
     "metadata": {},
     "output_type": "execute_result"
    }
   ],
   "source": [
    "df['target'].value_counts(1)"
   ]
  },
  {
   "cell_type": "markdown",
   "metadata": {
    "id": "CQeZW15eGGpj"
   },
   "source": [
    "# Round 1: Positive and Negative Emtions Only"
   ]
  },
  {
   "cell_type": "code",
   "execution_count": 7,
   "metadata": {
    "ExecuteTime": {
     "end_time": "2020-10-29T16:08:48.107591Z",
     "start_time": "2020-10-29T16:08:48.091946Z"
    },
    "id": "W469X0ZhGK7a"
   },
   "outputs": [],
   "source": [
    "df1 = df[(df['target']=='Positive emotion') | (df['target']=='Negative emotion')].copy()"
   ]
  },
  {
   "cell_type": "code",
   "execution_count": 8,
   "metadata": {
    "ExecuteTime": {
     "end_time": "2020-10-29T16:08:48.505436Z",
     "start_time": "2020-10-29T16:08:48.498794Z"
    },
    "colab": {
     "base_uri": "https://localhost:8080/"
    },
    "id": "wnlczA8VGXY2",
    "outputId": "74d718ef-fa18-485f-f512-86b155d7e3bb"
   },
   "outputs": [
    {
     "data": {
      "text/plain": [
       "Positive emotion    2978\n",
       "Negative emotion     570\n",
       "Name: target, dtype: int64"
      ]
     },
     "execution_count": 8,
     "metadata": {},
     "output_type": "execute_result"
    }
   ],
   "source": [
    "df1['target'].value_counts()"
   ]
  },
  {
   "cell_type": "code",
   "execution_count": 27,
   "metadata": {
    "ExecuteTime": {
     "end_time": "2020-10-29T16:20:17.144797Z",
     "start_time": "2020-10-29T16:20:17.142224Z"
    }
   },
   "outputs": [],
   "source": [
    "from sklearn.model_selection import train_test_split"
   ]
  },
  {
   "cell_type": "code",
   "execution_count": 46,
   "metadata": {
    "ExecuteTime": {
     "end_time": "2020-10-29T16:28:17.592989Z",
     "start_time": "2020-10-29T16:28:17.583998Z"
    }
   },
   "outputs": [],
   "source": [
    "X_train, X_test, y_train, y_test = train_test_split(df1[['text']],\n",
    "                                                    df1['target'], \n",
    "                                                    random_state=42)"
   ]
  },
  {
   "cell_type": "code",
   "execution_count": 47,
   "metadata": {
    "ExecuteTime": {
     "end_time": "2020-10-29T16:28:19.673416Z",
     "start_time": "2020-10-29T16:28:19.669774Z"
    },
    "id": "8DNKDQ_AGezW"
   },
   "outputs": [],
   "source": [
    "import nltk\n",
    "from nltk.corpus import stopwords\n",
    "import string\n",
    "from nltk import word_tokenize, FreqDist\n",
    "from sklearn.feature_extraction.text import TfidfVectorizer\n",
    "from sklearn.metrics import accuracy_score\n",
    "np.random.seed(0)"
   ]
  },
  {
   "cell_type": "code",
   "execution_count": 59,
   "metadata": {
    "ExecuteTime": {
     "end_time": "2020-10-29T16:30:00.101272Z",
     "start_time": "2020-10-29T16:30:00.096797Z"
    }
   },
   "outputs": [],
   "source": [
    "def process_text(tweet,\n",
    "                 pattern=\"([a-zA-Z]+(?:'[a-z]+)?)\",\n",
    "                 stopwords_list=stopwords.words('english') + list(string.punctuation)):\n",
    "    tokens = nltk.regexp_tokenize(tweet, pattern)\n",
    "    \n",
    "    # Filters out all the stop words\n",
    "    tokens_stopped = [token.lower() for token in tokens if token.lower() not in stopwords_list]\n",
    "    return tokens_stopped"
   ]
  },
  {
   "cell_type": "code",
   "execution_count": 60,
   "metadata": {
    "ExecuteTime": {
     "end_time": "2020-10-29T16:30:00.857098Z",
     "start_time": "2020-10-29T16:30:00.845862Z"
    }
   },
   "outputs": [
    {
     "data": {
      "text/html": [
       "<div>\n",
       "<style scoped>\n",
       "    .dataframe tbody tr th:only-of-type {\n",
       "        vertical-align: middle;\n",
       "    }\n",
       "\n",
       "    .dataframe tbody tr th {\n",
       "        vertical-align: top;\n",
       "    }\n",
       "\n",
       "    .dataframe thead th {\n",
       "        text-align: right;\n",
       "    }\n",
       "</style>\n",
       "<table border=\"1\" class=\"dataframe\">\n",
       "  <thead>\n",
       "    <tr style=\"text-align: right;\">\n",
       "      <th></th>\n",
       "      <th>text</th>\n",
       "    </tr>\n",
       "  </thead>\n",
       "  <tbody>\n",
       "    <tr>\n",
       "      <td>3944</td>\n",
       "      <td>They're giving away iPad 2's, x boxes and book...</td>\n",
       "    </tr>\n",
       "    <tr>\n",
       "      <td>7306</td>\n",
       "      <td>Setting up my iPad2 - very swift and upbeat se...</td>\n",
       "    </tr>\n",
       "    <tr>\n",
       "      <td>2730</td>\n",
       "      <td>Third time the charm?&amp;gt;&amp;gt;&amp;gt; #Google to l...</td>\n",
       "    </tr>\n",
       "    <tr>\n",
       "      <td>3568</td>\n",
       "      <td>@mention I used to think that and then they st...</td>\n",
       "    </tr>\n",
       "    <tr>\n",
       "      <td>1146</td>\n",
       "      <td>Hopefully the best thing that comes from #SXSW...</td>\n",
       "    </tr>\n",
       "    <tr>\n",
       "      <td>...</td>\n",
       "      <td>...</td>\n",
       "    </tr>\n",
       "    <tr>\n",
       "      <td>2760</td>\n",
       "      <td>Dear Apple, could you roll a hot dog cart full...</td>\n",
       "    </tr>\n",
       "    <tr>\n",
       "      <td>3151</td>\n",
       "      <td>To kick off #SXSWi @mention is giving away an ...</td>\n",
       "    </tr>\n",
       "    <tr>\n",
       "      <td>2121</td>\n",
       "      <td>@mention at #cnngrill #sxsw rockin the #iphone...</td>\n",
       "    </tr>\n",
       "    <tr>\n",
       "      <td>8989</td>\n",
       "      <td>It's crazy how much culture is documented in g...</td>\n",
       "    </tr>\n",
       "    <tr>\n",
       "      <td>8094</td>\n",
       "      <td>Woot!! Just won the #google #lego hackathon co...</td>\n",
       "    </tr>\n",
       "  </tbody>\n",
       "</table>\n",
       "<p>2661 rows × 1 columns</p>\n",
       "</div>"
      ],
      "text/plain": [
       "                                                   text\n",
       "3944  They're giving away iPad 2's, x boxes and book...\n",
       "7306  Setting up my iPad2 - very swift and upbeat se...\n",
       "2730  Third time the charm?&gt;&gt;&gt; #Google to l...\n",
       "3568  @mention I used to think that and then they st...\n",
       "1146  Hopefully the best thing that comes from #SXSW...\n",
       "...                                                 ...\n",
       "2760  Dear Apple, could you roll a hot dog cart full...\n",
       "3151  To kick off #SXSWi @mention is giving away an ...\n",
       "2121  @mention at #cnngrill #sxsw rockin the #iphone...\n",
       "8989  It's crazy how much culture is documented in g...\n",
       "8094  Woot!! Just won the #google #lego hackathon co...\n",
       "\n",
       "[2661 rows x 1 columns]"
      ]
     },
     "execution_count": 60,
     "metadata": {},
     "output_type": "execute_result"
    }
   ],
   "source": [
    "X_train"
   ]
  },
  {
   "cell_type": "code",
   "execution_count": 64,
   "metadata": {
    "ExecuteTime": {
     "end_time": "2020-10-29T16:30:18.131213Z",
     "start_time": "2020-10-29T16:30:17.968965Z"
    }
   },
   "outputs": [],
   "source": [
    "processed_tweets = list(map(process_text, X_train['text']))"
   ]
  },
  {
   "cell_type": "code",
   "execution_count": 68,
   "metadata": {
    "ExecuteTime": {
     "end_time": "2020-10-29T16:31:45.592321Z",
     "start_time": "2020-10-29T16:31:45.539204Z"
    }
   },
   "outputs": [
    {
     "data": {
      "text/plain": [
       "[('sxsw', 2803),\n",
       " ('mention', 1856),\n",
       " ('ipad', 1081),\n",
       " ('link', 988),\n",
       " ('rt', 795),\n",
       " ('apple', 767),\n",
       " ('google', 631),\n",
       " ('iphone', 529),\n",
       " ('quot', 457),\n",
       " ('store', 447),\n",
       " ('app', 328),\n",
       " ('new', 289),\n",
       " ('austin', 250),\n",
       " ('android', 173),\n",
       " ('pop', 172),\n",
       " ('amp', 162),\n",
       " ('get', 143),\n",
       " ('launch', 137),\n",
       " ('time', 118),\n",
       " ('social', 116),\n",
       " ('circles', 115),\n",
       " ('line', 114),\n",
       " ('like', 114),\n",
       " ('one', 107),\n",
       " ('great', 106),\n",
       " ('via', 106),\n",
       " ('party', 103),\n",
       " ('free', 101),\n",
       " ('today', 100),\n",
       " (\"i'm\", 99),\n",
       " ('day', 98),\n",
       " ('cool', 93),\n",
       " ('people', 90),\n",
       " ('mobile', 89),\n",
       " ('maps', 87),\n",
       " ('w', 85),\n",
       " ('sxswi', 84),\n",
       " ('apps', 82),\n",
       " ('go', 81),\n",
       " ('good', 80),\n",
       " ('network', 79),\n",
       " ('awesome', 78),\n",
       " ('temporary', 75),\n",
       " ('going', 68),\n",
       " ('love', 68),\n",
       " ('got', 67),\n",
       " ('opening', 66),\n",
       " ('downtown', 66),\n",
       " ('see', 65),\n",
       " ('even', 62),\n",
       " ('check', 61),\n",
       " ('around', 58),\n",
       " ('need', 58),\n",
       " ('mayer', 57),\n",
       " ('called', 56),\n",
       " ('first', 56),\n",
       " ('users', 56),\n",
       " ('thanks', 54),\n",
       " ('news', 53),\n",
       " ('open', 53),\n",
       " ('popup', 52),\n",
       " ('major', 52),\n",
       " ('think', 51),\n",
       " ('marissa', 51),\n",
       " ('best', 50),\n",
       " ('video', 50),\n",
       " ('next', 50),\n",
       " ('wins', 50),\n",
       " ('tech', 49),\n",
       " ('win', 48),\n",
       " ('come', 48),\n",
       " ('want', 48),\n",
       " ('would', 48),\n",
       " ('use', 47),\n",
       " ('really', 47),\n",
       " (\"google's\", 46),\n",
       " ('design', 45),\n",
       " ('game', 44),\n",
       " ('us', 44),\n",
       " ('ever', 41),\n",
       " ('heard', 41),\n",
       " ('nice', 40),\n",
       " ('still', 39),\n",
       " ('way', 39),\n",
       " ('marketing', 39),\n",
       " ('smart', 39),\n",
       " ('year', 39),\n",
       " ('last', 39),\n",
       " ('technology', 38),\n",
       " ('coming', 38),\n",
       " ('panel', 37),\n",
       " ('using', 37),\n",
       " ('big', 37),\n",
       " ('better', 37),\n",
       " ('know', 37),\n",
       " ('wow', 37),\n",
       " ('fun', 37),\n",
       " ('phone', 36),\n",
       " ('right', 36),\n",
       " ('also', 36),\n",
       " ('gt', 35),\n",
       " (\"i've\", 35),\n",
       " ('could', 35),\n",
       " ('begins', 35),\n",
       " ('possibly', 35),\n",
       " ('thing', 34),\n",
       " ('comes', 34),\n",
       " ('may', 34),\n",
       " ('wait', 34),\n",
       " ('team', 33),\n",
       " ('th', 33),\n",
       " ('everyone', 33),\n",
       " ('much', 33),\n",
       " ('case', 32),\n",
       " ('buy', 32),\n",
       " ('away', 31),\n",
       " ('every', 31),\n",
       " (\"i'll\", 31),\n",
       " ('back', 31),\n",
       " (\"apple's\", 31),\n",
       " ('ipads', 31),\n",
       " ('shop', 30),\n",
       " ('life', 30),\n",
       " ('talk', 30),\n",
       " ('session', 30),\n",
       " ('looks', 29),\n",
       " ('looking', 29),\n",
       " ('week', 29),\n",
       " ('music', 29),\n",
       " ('fast', 29),\n",
       " ('yes', 29),\n",
       " ('temp', 29),\n",
       " ('says', 29),\n",
       " ('must', 29),\n",
       " ('long', 28),\n",
       " ('com', 28),\n",
       " ('u', 28),\n",
       " ('already', 28),\n",
       " ('work', 28),\n",
       " ('set', 28),\n",
       " ('conferences', 27),\n",
       " ('make', 27),\n",
       " ('hey', 27),\n",
       " ('far', 26),\n",
       " ('live', 26),\n",
       " ('rumor', 26),\n",
       " ('look', 26),\n",
       " ('digital', 26),\n",
       " ('many', 26),\n",
       " ('getting', 26),\n",
       " (\"they're\", 25),\n",
       " ('tomorrow', 25),\n",
       " ('hot', 25),\n",
       " ('amazing', 25),\n",
       " ('show', 25),\n",
       " ('future', 25),\n",
       " ('well', 25),\n",
       " ('product', 25),\n",
       " ('keep', 25),\n",
       " ('giving', 24),\n",
       " ('traffic', 24),\n",
       " (\"one's\", 24),\n",
       " ('interesting', 24),\n",
       " ('tonight', 24),\n",
       " ('interactive', 24),\n",
       " ('search', 24),\n",
       " ('info', 24),\n",
       " ('battery', 24),\n",
       " ('location', 24),\n",
       " ('two', 24),\n",
       " ('available', 24),\n",
       " ('sell', 24),\n",
       " ('lt', 23),\n",
       " ('japan', 23),\n",
       " (\"can't\", 23),\n",
       " ('bing', 23),\n",
       " ('blackberry', 23),\n",
       " ('booth', 23),\n",
       " ('tapworthy', 23),\n",
       " ('pretty', 23),\n",
       " ('winning', 23),\n",
       " ('details', 23),\n",
       " (\"that's\", 23),\n",
       " ('makes', 23),\n",
       " (\"we're\", 23),\n",
       " ('others', 22),\n",
       " ('congress', 22),\n",
       " ('yet', 22),\n",
       " ('hand', 22),\n",
       " ('friends', 22),\n",
       " ('web', 22),\n",
       " ('release', 22),\n",
       " ('taking', 22),\n",
       " ('takes', 22),\n",
       " ('excited', 22),\n",
       " ('anyone', 22),\n",
       " ('twitter', 22),\n",
       " ('genius', 22),\n",
       " ('someone', 22),\n",
       " ('g', 22)]"
      ]
     },
     "execution_count": 68,
     "metadata": {},
     "output_type": "execute_result"
    }
   ],
   "source": [
    "total_tweets = []\n",
    "vocab_tweets = set()\n",
    "for tweet in processed_tweets:\n",
    "    total_tweets += tweet\n",
    "    vocab_tweets.update(tweet)\n",
    "total_tweets_freqdist = FreqDist(total_tweets)\n",
    "total_tweets_freqdist.most_common(200)"
   ]
  },
  {
   "cell_type": "code",
   "execution_count": 69,
   "metadata": {
    "ExecuteTime": {
     "end_time": "2020-10-29T16:31:57.072020Z",
     "start_time": "2020-10-29T16:31:57.067886Z"
    }
   },
   "outputs": [
    {
     "data": {
      "text/plain": [
       "4991"
      ]
     },
     "execution_count": 69,
     "metadata": {},
     "output_type": "execute_result"
    }
   ],
   "source": [
    "# Total number of tweets\n",
    "len(vocab_tweets)"
   ]
  },
  {
   "cell_type": "code",
   "execution_count": 70,
   "metadata": {
    "ExecuteTime": {
     "end_time": "2020-10-29T16:32:35.038550Z",
     "start_time": "2020-10-29T16:32:35.035579Z"
    }
   },
   "outputs": [],
   "source": [
    "from sklearn.feature_extraction.text import TfidfVectorizer"
   ]
  },
  {
   "cell_type": "code",
   "execution_count": 71,
   "metadata": {
    "ExecuteTime": {
     "end_time": "2020-10-29T16:32:44.691410Z",
     "start_time": "2020-10-29T16:32:44.688332Z"
    }
   },
   "outputs": [],
   "source": [
    "vectorizer = TfidfVectorizer()"
   ]
  },
  {
   "cell_type": "code",
   "execution_count": 80,
   "metadata": {
    "ExecuteTime": {
     "end_time": "2020-10-29T16:38:37.716573Z",
     "start_time": "2020-10-29T16:38:37.708145Z"
    }
   },
   "outputs": [
    {
     "data": {
      "text/html": [
       "<div>\n",
       "<style scoped>\n",
       "    .dataframe tbody tr th:only-of-type {\n",
       "        vertical-align: middle;\n",
       "    }\n",
       "\n",
       "    .dataframe tbody tr th {\n",
       "        vertical-align: top;\n",
       "    }\n",
       "\n",
       "    .dataframe thead th {\n",
       "        text-align: right;\n",
       "    }\n",
       "</style>\n",
       "<table border=\"1\" class=\"dataframe\">\n",
       "  <thead>\n",
       "    <tr style=\"text-align: right;\">\n",
       "      <th></th>\n",
       "      <th>text</th>\n",
       "    </tr>\n",
       "  </thead>\n",
       "  <tbody>\n",
       "    <tr>\n",
       "      <td>3944</td>\n",
       "      <td>They're giving away iPad 2's, x boxes and book...</td>\n",
       "    </tr>\n",
       "    <tr>\n",
       "      <td>7306</td>\n",
       "      <td>Setting up my iPad2 - very swift and upbeat se...</td>\n",
       "    </tr>\n",
       "    <tr>\n",
       "      <td>2730</td>\n",
       "      <td>Third time the charm?&amp;gt;&amp;gt;&amp;gt; #Google to l...</td>\n",
       "    </tr>\n",
       "    <tr>\n",
       "      <td>3568</td>\n",
       "      <td>@mention I used to think that and then they st...</td>\n",
       "    </tr>\n",
       "    <tr>\n",
       "      <td>1146</td>\n",
       "      <td>Hopefully the best thing that comes from #SXSW...</td>\n",
       "    </tr>\n",
       "    <tr>\n",
       "      <td>...</td>\n",
       "      <td>...</td>\n",
       "    </tr>\n",
       "    <tr>\n",
       "      <td>2760</td>\n",
       "      <td>Dear Apple, could you roll a hot dog cart full...</td>\n",
       "    </tr>\n",
       "    <tr>\n",
       "      <td>3151</td>\n",
       "      <td>To kick off #SXSWi @mention is giving away an ...</td>\n",
       "    </tr>\n",
       "    <tr>\n",
       "      <td>2121</td>\n",
       "      <td>@mention at #cnngrill #sxsw rockin the #iphone...</td>\n",
       "    </tr>\n",
       "    <tr>\n",
       "      <td>8989</td>\n",
       "      <td>It's crazy how much culture is documented in g...</td>\n",
       "    </tr>\n",
       "    <tr>\n",
       "      <td>8094</td>\n",
       "      <td>Woot!! Just won the #google #lego hackathon co...</td>\n",
       "    </tr>\n",
       "  </tbody>\n",
       "</table>\n",
       "<p>2661 rows × 1 columns</p>\n",
       "</div>"
      ],
      "text/plain": [
       "                                                   text\n",
       "3944  They're giving away iPad 2's, x boxes and book...\n",
       "7306  Setting up my iPad2 - very swift and upbeat se...\n",
       "2730  Third time the charm?&gt;&gt;&gt; #Google to l...\n",
       "3568  @mention I used to think that and then they st...\n",
       "1146  Hopefully the best thing that comes from #SXSW...\n",
       "...                                                 ...\n",
       "2760  Dear Apple, could you roll a hot dog cart full...\n",
       "3151  To kick off #SXSWi @mention is giving away an ...\n",
       "2121  @mention at #cnngrill #sxsw rockin the #iphone...\n",
       "8989  It's crazy how much culture is documented in g...\n",
       "8094  Woot!! Just won the #google #lego hackathon co...\n",
       "\n",
       "[2661 rows x 1 columns]"
      ]
     },
     "execution_count": 80,
     "metadata": {},
     "output_type": "execute_result"
    }
   ],
   "source": [
    "X_train"
   ]
  },
  {
   "cell_type": "code",
   "execution_count": 81,
   "metadata": {
    "ExecuteTime": {
     "end_time": "2020-10-29T16:38:46.494795Z",
     "start_time": "2020-10-29T16:38:46.398764Z"
    }
   },
   "outputs": [],
   "source": [
    "X_train_tf_idf = vectorizer.fit_transform(X_train['text'])\n",
    "X_test_tf_idf = vectorizer.transform(X_test['text'])"
   ]
  },
  {
   "cell_type": "code",
   "execution_count": 83,
   "metadata": {
    "ExecuteTime": {
     "end_time": "2020-10-29T16:38:52.396645Z",
     "start_time": "2020-10-29T16:38:52.392787Z"
    }
   },
   "outputs": [
    {
     "ename": "SyntaxError",
     "evalue": "trailing comma not allowed without surrounding parentheses (<ipython-input-83-20227ef1b95b>, line 2)",
     "output_type": "error",
     "traceback": [
      "\u001b[0;36m  File \u001b[0;32m\"<ipython-input-83-20227ef1b95b>\"\u001b[0;36m, line \u001b[0;32m2\u001b[0m\n\u001b[0;31m    from sklearn.naive_bayes import MultinomialNB,\u001b[0m\n\u001b[0m                                   ^\u001b[0m\n\u001b[0;31mSyntaxError\u001b[0m\u001b[0;31m:\u001b[0m trailing comma not allowed without surrounding parentheses\n"
     ]
    }
   ],
   "source": [
    "from sklearn.ensemble import RandomForestClassifier\n",
    "from sklearn.naive_bayes import MultinomialNB, \n"
   ]
  },
  {
   "cell_type": "code",
   "execution_count": 84,
   "metadata": {
    "ExecuteTime": {
     "end_time": "2020-10-29T16:38:52.563145Z",
     "start_time": "2020-10-29T16:38:52.560134Z"
    }
   },
   "outputs": [],
   "source": [
    "nb_clf = MultinomialNB()\n",
    "rf_clf = RandomForestClassifier()"
   ]
  },
  {
   "cell_type": "code",
   "execution_count": 85,
   "metadata": {
    "ExecuteTime": {
     "end_time": "2020-10-29T16:38:52.727616Z",
     "start_time": "2020-10-29T16:38:52.723518Z"
    }
   },
   "outputs": [
    {
     "data": {
      "text/plain": [
       "(2661, 5235)"
      ]
     },
     "execution_count": 85,
     "metadata": {},
     "output_type": "execute_result"
    }
   ],
   "source": [
    "X_train_tf_idf.shape"
   ]
  },
  {
   "cell_type": "code",
   "execution_count": 88,
   "metadata": {
    "ExecuteTime": {
     "end_time": "2020-10-29T16:40:45.267854Z",
     "start_time": "2020-10-29T16:40:45.249238Z"
    }
   },
   "outputs": [],
   "source": [
    "nb_clf.fit(X_train_tf_idf, y_train)\n",
    "nb_train_preds = nb_clf.predict(X_train_tf_idf) \n",
    "nb_test_preds = nb_clf.predict(X_test_tf_idf) "
   ]
  },
  {
   "cell_type": "code",
   "execution_count": 89,
   "metadata": {
    "ExecuteTime": {
     "end_time": "2020-10-29T16:41:13.811192Z",
     "start_time": "2020-10-29T16:41:12.808229Z"
    }
   },
   "outputs": [],
   "source": [
    "rf_clf.fit(X_train_tf_idf, y_train)\n",
    "rf_train_preds = rf_clf.predict(X_train_tf_idf)\n",
    "rf_test_preds = rf_clf.predict(X_test_tf_idf)"
   ]
  },
  {
   "cell_type": "code",
   "execution_count": 90,
   "metadata": {
    "ExecuteTime": {
     "end_time": "2020-10-29T16:41:30.145958Z",
     "start_time": "2020-10-29T16:41:30.123136Z"
    }
   },
   "outputs": [
    {
     "name": "stdout",
     "output_type": "stream",
     "text": [
      "Multinomial Naive Bayes\n",
      "Training Accuracy: 0.8467 \t\t Testing Accuracy: 0.8512\n",
      "\n",
      "----------------------------------------------------------------------\n",
      "\n",
      "Random Forest\n",
      "Training Accuracy: 1.0 \t\t Testing Accuracy: 0.8794\n"
     ]
    }
   ],
   "source": [
    "nb_train_score = accuracy_score(y_train, nb_train_preds)\n",
    "nb_test_score = accuracy_score(y_test, nb_test_preds)\n",
    "rf_train_score = accuracy_score(y_train, rf_train_preds)\n",
    "rf_test_score = accuracy_score(y_test, rf_test_preds)\n",
    "\n",
    "print(\"Multinomial Naive Bayes\")\n",
    "print(\"Training Accuracy: {:.4} \\t\\t Testing Accuracy: {:.4}\".format(nb_train_score, nb_test_score))\n",
    "print(\"\")\n",
    "print('-'*70)\n",
    "print(\"\")\n",
    "print('Random Forest')\n",
    "print(\"Training Accuracy: {:.4} \\t\\t Testing Accuracy: {:.4}\".format(rf_train_score, rf_test_score))"
   ]
  },
  {
   "cell_type": "code",
   "execution_count": 94,
   "metadata": {
    "ExecuteTime": {
     "end_time": "2020-10-29T16:45:11.929001Z",
     "start_time": "2020-10-29T16:45:11.926435Z"
    }
   },
   "outputs": [],
   "source": [
    "import src.useful_codes as uc"
   ]
  },
  {
   "cell_type": "code",
   "execution_count": 130,
   "metadata": {
    "ExecuteTime": {
     "end_time": "2020-10-29T16:56:48.462481Z",
     "start_time": "2020-10-29T16:56:48.455413Z"
    }
   },
   "outputs": [
    {
     "data": {
      "text/plain": [
       "Positive emotion    0.845547\n",
       "Negative emotion    0.154453\n",
       "Name: target, dtype: float64"
      ]
     },
     "execution_count": 130,
     "metadata": {},
     "output_type": "execute_result"
    }
   ],
   "source": [
    "pd.Series(y_test).value_counts(1)"
   ]
  },
  {
   "cell_type": "code",
   "execution_count": 150,
   "metadata": {
    "ExecuteTime": {
     "end_time": "2020-10-29T17:00:10.863919Z",
     "start_time": "2020-10-29T17:00:10.267852Z"
    }
   },
   "outputs": [
    {
     "name": "stdout",
     "output_type": "stream",
     "text": [
      "------------------------------------------------------------\n",
      "[i] CLASSIFICATION REPORT NB Classifier\n",
      "------------------------------------------------------------\n",
      "Train Accuracy :  1.0\n",
      "Test Accuracy :  0.8794\n",
      "                  precision    recall  f1-score   support\n",
      "\n",
      "Negative emotion       0.92      0.24      0.38       137\n",
      "Positive emotion       0.88      1.00      0.93       750\n",
      "\n",
      "        accuracy                           0.88       887\n",
      "       macro avg       0.90      0.62      0.66       887\n",
      "    weighted avg       0.88      0.88      0.85       887\n",
      "\n",
      "------------------------------------------------------------\n",
      "\n",
      "\n"
     ]
    },
    {
     "data": {
      "image/png": "[encoded data removed]",
      "text/plain": [
       "<Figure size 720x288 with 2 Axes>"
      ]
     },
     "metadata": {
      "needs_background": "light"
     },
     "output_type": "display_data"
    }
   ],
   "source": [
    "evaluate_clf_model(rf_clf, X_train_tf_idf, y_train, X_test_tf_idf, y_test,\n",
    "                   classes=['Negative emotion', 'Positive emotion'],\n",
    "                   label='NB Classifier')"
   ]
  },
  {
   "cell_type": "code",
   "execution_count": 155,
   "metadata": {
    "ExecuteTime": {
     "end_time": "2020-10-29T17:03:39.532500Z",
     "start_time": "2020-10-29T17:03:35.594815Z"
    }
   },
   "outputs": [
    {
     "data": {
      "text/plain": [
       "RandomForestClassifier(class_weight='balanced', max_features='sqrt',\n",
       "                       n_estimators=500)"
      ]
     },
     "execution_count": 155,
     "metadata": {},
     "output_type": "execute_result"
    }
   ],
   "source": [
    "rf_clf_2 = RandomForestClassifier(n_estimators=500,\n",
    "                                  class_weight='balanced',\n",
    "                                  max_features='sqrt')\n",
    "rf_clf_2.fit(X_train_tf_idf, y_train)"
   ]
  },
  {
   "cell_type": "code",
   "execution_count": 156,
   "metadata": {
    "ExecuteTime": {
     "end_time": "2020-10-29T17:03:41.121400Z",
     "start_time": "2020-10-29T17:03:40.189176Z"
    }
   },
   "outputs": [
    {
     "name": "stdout",
     "output_type": "stream",
     "text": [
      "------------------------------------------------------------\n",
      "[i] CLASSIFICATION REPORT NB Classifier\n",
      "------------------------------------------------------------\n",
      "Train Accuracy :  1.0\n",
      "Test Accuracy :  0.8726\n",
      "                  precision    recall  f1-score   support\n",
      "\n",
      "Negative emotion       0.88      0.20      0.33       137\n",
      "Positive emotion       0.87      0.99      0.93       750\n",
      "\n",
      "        accuracy                           0.87       887\n",
      "       macro avg       0.87      0.60      0.63       887\n",
      "    weighted avg       0.87      0.87      0.84       887\n",
      "\n",
      "------------------------------------------------------------\n",
      "\n",
      "\n"
     ]
    },
    {
     "data": {
      "image/png": "[encoded data removed]",
      "text/plain": [
       "<Figure size 720x288 with 2 Axes>"
      ]
     },
     "metadata": {
      "needs_background": "light"
     },
     "output_type": "display_data"
    }
   ],
   "source": [
    "evaluate_clf_model(rf_clf_2, X_train_tf_idf, y_train, X_test_tf_idf, y_test,\n",
    "                   classes=['Negative emotion', 'Positive emotion'],\n",
    "                   label='NB Classifier')"
   ]
  },
  {
   "cell_type": "code",
   "execution_count": 151,
   "metadata": {
    "ExecuteTime": {
     "end_time": "2020-10-29T17:00:52.423396Z",
     "start_time": "2020-10-29T17:00:52.132688Z"
    }
   },
   "outputs": [
    {
     "name": "stdout",
     "output_type": "stream",
     "text": [
      "------------------------------------------------------------\n",
      "[i] CLASSIFICATION REPORT NB Classifier\n",
      "------------------------------------------------------------\n",
      "Train Accuracy :  0.8467\n",
      "Test Accuracy :  0.8512\n",
      "                  precision    recall  f1-score   support\n",
      "\n",
      "Negative emotion       1.00      0.04      0.07       137\n",
      "Positive emotion       0.85      1.00      0.92       750\n",
      "\n",
      "        accuracy                           0.85       887\n",
      "       macro avg       0.93      0.52      0.49       887\n",
      "    weighted avg       0.87      0.85      0.79       887\n",
      "\n",
      "------------------------------------------------------------\n",
      "\n",
      "\n"
     ]
    },
    {
     "data": {
      "image/png": "[encoded data removed]",
      "text/plain": [
       "<Figure size 720x288 with 2 Axes>"
      ]
     },
     "metadata": {
      "needs_background": "light"
     },
     "output_type": "display_data"
    }
   ],
   "source": [
    "evaluate_clf_model(nb_clf, X_train_tf_idf, y_train, X_test_tf_idf, y_test,\n",
    "                   classes=['Negative emotion', 'Positive emotion'],\n",
    "                   label='NB Classifier')"
   ]
  },
  {
   "cell_type": "code",
   "execution_count": 149,
   "metadata": {
    "ExecuteTime": {
     "end_time": "2020-10-29T17:00:07.902623Z",
     "start_time": "2020-10-29T17:00:07.892557Z"
    }
   },
   "outputs": [],
   "source": [
    "from sklearn.metrics import accuracy_score, confusion_matrix, plot_confusion_matrix\n",
    "from sklearn.model_selection import cross_val_score\n",
    "import sklearn.metrics as metrics\n",
    "\n",
    "def evaluate_clf_model(model, X_train, y_train, X_test, y_test, classes=[], label='',\n",
    "                       normalize='true', cmap='Blues'):\n",
    "    \"\"\"\n",
    "    Evaluates a classifier model by providing\n",
    "        [1] Metrics including accuracy, AUC, and cross validation score.\n",
    "        [2] Classification report\n",
    "        [3] Confusion Matrix\n",
    "\n",
    "    Args:\n",
    "        model (clf ojb): classifier model\n",
    "        \n",
    "        X_train (dataframe): Training dataset\n",
    "        \n",
    "        y_train (array): Training target\n",
    "        \n",
    "        X_test (dataframe): test dataset\n",
    "        \n",
    "        y_test (array): test target\n",
    "        \n",
    "        features (list): names of the features included in the test. (Default=None)\n",
    "        \n",
    "        classes (list): list of classes in the target. (Default=['functioning', 'needs repair', 'nonfunctioning'])\n",
    "        \n",
    "        prob (bool): True of model contains pred_prob values.\n",
    "        \n",
    "        feature_importance (bool): True if model provide feature_importance.\n",
    "        \n",
    "        normalize (str): 'true' if normalize confusion matrix annotated values.\n",
    "        \n",
    "        cmap (str): color map for the confusion matrix\n",
    "\n",
    "        label (str): name of the classifier.\n",
    "        \n",
    "        cv (int): Number of cross folds for cross validation model.\n",
    "    Returns:\n",
    "        report: classfication report\n",
    "        fig, ax: matplotlib object\n",
    "    \"\"\"\n",
    "    ## Get Predictions\n",
    "    y_hat_train = model.predict(X_train)\n",
    "    y_hat_test = model.predict(X_test)\n",
    "\n",
    "    table_header = \"[i] CLASSIFICATION REPORT\"\n",
    "    \n",
    "    # Add Label if given\n",
    "    if len(label)>0:\n",
    "        table_header += f\" {label}\"\n",
    "    \n",
    "    ## PRINT CLASSIFICATION REPORT\n",
    "    dashes = '---'*20\n",
    "    print(dashes,table_header,dashes,sep='\\n')    \n",
    "    print('Train Accuracy : ', round(metrics.accuracy_score(y_train, y_hat_train),4))\n",
    "    print('Test Accuracy : ', round(metrics.accuracy_score(y_test, y_hat_test),4))\n",
    "    \n",
    "\n",
    "    print(metrics.classification_report(y_test,y_hat_test,\n",
    "                                    target_names=classes))\n",
    "    \n",
    "    report = metrics.classification_report(y_test,y_hat_test,\n",
    "                                               target_names=classes,\n",
    "                                          output_dict=True)\n",
    "    print(dashes+\"\\n\\n\")\n",
    "    \n",
    "    \n",
    "\n",
    "    ## MAKE FIGURE\n",
    "    fig, ax = plt.subplots(figsize=(10,4))\n",
    "    ax.grid(False)\n",
    "    \n",
    "    ## Plot Confusion Matrix eva\n",
    "    metrics.plot_confusion_matrix(model, X_test,y_test,\n",
    "                                  display_labels=classes,\n",
    "                                  normalize=normalize,\n",
    "                                  cmap=cmap,ax=ax)\n",
    "    ax.set(title='Confusion Matrix')\n",
    "    plt.xticks(rotation=45)\n",
    "    \n",
    "\n",
    "    return report, fig, ax\n"
   ]
  },
  {
   "cell_type": "code",
   "execution_count": null,
   "metadata": {},
   "outputs": [],
   "source": []
  },
  {
   "cell_type": "code",
   "execution_count": null,
   "metadata": {},
   "outputs": [],
   "source": []
  }
 ],
 "metadata": {
  "colab": {
   "name": "NLP.ipynb",
   "provenance": []
  },
  "kernelspec": {
   "display_name": "Python [conda env:learn-env] *",
   "language": "python",
   "name": "conda-env-learn-env-py"
  },
  "language_info": {
   "codemirror_mode": {
    "name": "ipython",
    "version": 3
   },
   "file_extension": ".py",
   "mimetype": "text/x-python",
   "name": "python",
   "nbconvert_exporter": "python",
   "pygments_lexer": "ipython3",
   "version": "3.6.9"
  },
  "toc": {
   "base_numbering": 1,
   "nav_menu": {},
   "number_sections": true,
   "sideBar": true,
   "skip_h1_title": false,
   "title_cell": "Table of Contents",
   "title_sidebar": "Contents",
   "toc_cell": false,
   "toc_position": {},
   "toc_section_display": true,
   "toc_window_display": true
  }
 },
 "nbformat": 4,
 "nbformat_minor": 1
}
